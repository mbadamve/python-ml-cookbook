{
 "cells": [
  {
   "cell_type": "code",
   "execution_count": 2,
   "metadata": {},
   "outputs": [],
   "source": [
    "import numpy as np"
   ]
  },
  {
   "cell_type": "code",
   "execution_count": 3,
   "metadata": {},
   "outputs": [],
   "source": [
    "vector_row = np.array([1,2,3])"
   ]
  },
  {
   "cell_type": "code",
   "execution_count": 4,
   "metadata": {},
   "outputs": [],
   "source": [
    "vector_column = np.array([[1],\n",
    "[2],\n",
    "[3]])"
   ]
  },
  {
   "cell_type": "code",
   "execution_count": 5,
   "metadata": {},
   "outputs": [
    {
     "output_type": "execute_result",
     "data": {
      "text/plain": "array([[1],\n       [2],\n       [3]])"
     },
     "metadata": {},
     "execution_count": 5
    }
   ],
   "source": [
    "vector_column"
   ]
  },
  {
   "cell_type": "code",
   "execution_count": 6,
   "metadata": {},
   "outputs": [],
   "source": [
    "from scipy import sparse"
   ]
  },
  {
   "cell_type": "code",
   "execution_count": 7,
   "metadata": {},
   "outputs": [],
   "source": [
    "matrix = np.array([[0, 0],\n",
    "[0,1],\n",
    "[3,0]])"
   ]
  },
  {
   "cell_type": "code",
   "execution_count": 8,
   "metadata": {},
   "outputs": [],
   "source": [
    "matrix_sparse = sparse.csr_matrix(matrix)"
   ]
  },
  {
   "cell_type": "code",
   "execution_count": 9,
   "metadata": {},
   "outputs": [
    {
     "output_type": "stream",
     "name": "stdout",
     "text": "(1, 1)\t1\n  (2, 0)\t3\n"
    }
   ],
   "source": [
    "print(matrix_sparse)"
   ]
  },
  {
   "cell_type": "markdown",
   "metadata": {},
   "source": [
    "CSR means Compressed Sparse Row"
   ]
  },
  {
   "cell_type": "code",
   "execution_count": 10,
   "metadata": {},
   "outputs": [],
   "source": [
    "\n",
    "matrix = np.array([[1, 2, 3, 4], [5, 6, 7, 8],\n",
    "[9, 10, 11, 12]])"
   ]
  },
  {
   "cell_type": "code",
   "execution_count": 11,
   "metadata": {},
   "outputs": [
    {
     "output_type": "execute_result",
     "data": {
      "text/plain": "(3, 4)"
     },
     "metadata": {},
     "execution_count": 11
    }
   ],
   "source": [
    "matrix.shape"
   ]
  },
  {
   "cell_type": "code",
   "execution_count": 12,
   "metadata": {},
   "outputs": [
    {
     "output_type": "execute_result",
     "data": {
      "text/plain": "12"
     },
     "metadata": {},
     "execution_count": 12
    }
   ],
   "source": [
    "matrix.size"
   ]
  },
  {
   "cell_type": "code",
   "execution_count": 13,
   "metadata": {},
   "outputs": [
    {
     "output_type": "execute_result",
     "data": {
      "text/plain": "2"
     },
     "metadata": {},
     "execution_count": 13
    }
   ],
   "source": [
    "matrix.ndim"
   ]
  },
  {
   "cell_type": "code",
   "execution_count": 14,
   "metadata": {},
   "outputs": [
    {
     "output_type": "execute_result",
     "data": {
      "text/plain": "array([[101, 102, 103, 104],\n       [105, 106, 107, 108],\n       [109, 110, 111, 112]])"
     },
     "metadata": {},
     "execution_count": 14
    }
   ],
   "source": [
    "# create vectorized function\n",
    "np.vectorize(lambda x:x+100)(matrix)\n"
   ]
  },
  {
   "cell_type": "code",
   "execution_count": 15,
   "metadata": {},
   "outputs": [
    {
     "output_type": "execute_result",
     "data": {
      "text/plain": "array([[101, 102, 103, 104],\n       [105, 106, 107, 108],\n       [109, 110, 111, 112]])"
     },
     "metadata": {},
     "execution_count": 15
    }
   ],
   "source": [
    "# by broadcasting\n",
    "matrix+100"
   ]
  },
  {
   "cell_type": "code",
   "execution_count": 16,
   "metadata": {},
   "outputs": [
    {
     "output_type": "execute_result",
     "data": {
      "text/plain": "12"
     },
     "metadata": {},
     "execution_count": 16
    }
   ],
   "source": [
    "np.max(matrix)"
   ]
  },
  {
   "cell_type": "code",
   "execution_count": 17,
   "metadata": {},
   "outputs": [
    {
     "output_type": "execute_result",
     "data": {
      "text/plain": "1"
     },
     "metadata": {},
     "execution_count": 17
    }
   ],
   "source": [
    "np.min(matrix)"
   ]
  },
  {
   "cell_type": "code",
   "execution_count": 18,
   "metadata": {},
   "outputs": [
    {
     "output_type": "execute_result",
     "data": {
      "text/plain": "array([ 9, 10, 11, 12])"
     },
     "metadata": {},
     "execution_count": 18
    }
   ],
   "source": [
    "# in each column\n",
    "np.max(matrix, axis=0)"
   ]
  },
  {
   "cell_type": "code",
   "execution_count": 19,
   "metadata": {},
   "outputs": [
    {
     "output_type": "execute_result",
     "data": {
      "text/plain": "array([ 4,  8, 12])"
     },
     "metadata": {},
     "execution_count": 19
    }
   ],
   "source": [
    "# in each row\n",
    "np.max(matrix, axis=1)"
   ]
  },
  {
   "cell_type": "code",
   "execution_count": 20,
   "metadata": {},
   "outputs": [
    {
     "output_type": "execute_result",
     "data": {
      "text/plain": "2"
     },
     "metadata": {},
     "execution_count": 20
    }
   ],
   "source": [
    "np.linalg.matrix_rank(matrix)"
   ]
  },
  {
   "cell_type": "code",
   "execution_count": 21,
   "metadata": {},
   "outputs": [],
   "source": [
    "matrix = np.array([[1, 2, 3], [2, 4, 6],\n",
    "[3, 8, 20]])"
   ]
  },
  {
   "cell_type": "code",
   "execution_count": 22,
   "metadata": {},
   "outputs": [
    {
     "output_type": "execute_result",
     "data": {
      "text/plain": "0.0"
     },
     "metadata": {},
     "execution_count": 22
    }
   ],
   "source": [
    "np.linalg.det(matrix)"
   ]
  },
  {
   "cell_type": "code",
   "execution_count": 23,
   "metadata": {},
   "outputs": [
    {
     "output_type": "execute_result",
     "data": {
      "text/plain": "array([ 1,  4, 20])"
     },
     "metadata": {},
     "execution_count": 23
    }
   ],
   "source": [
    "matrix.diagonal()"
   ]
  },
  {
   "cell_type": "code",
   "execution_count": 24,
   "metadata": {},
   "outputs": [
    {
     "output_type": "execute_result",
     "data": {
      "text/plain": "array([2, 6])"
     },
     "metadata": {},
     "execution_count": 24
    }
   ],
   "source": [
    "matrix.diagonal(offset=1)"
   ]
  },
  {
   "cell_type": "code",
   "execution_count": 25,
   "metadata": {},
   "outputs": [
    {
     "output_type": "execute_result",
     "data": {
      "text/plain": "array([2, 8])"
     },
     "metadata": {},
     "execution_count": 25
    }
   ],
   "source": [
    "matrix.diagonal(offset=-1)"
   ]
  },
  {
   "cell_type": "markdown",
   "metadata": {},
   "source": [
    "trace of the matrix is sum of diagonal elements"
   ]
  },
  {
   "cell_type": "code",
   "execution_count": 26,
   "metadata": {},
   "outputs": [
    {
     "output_type": "execute_result",
     "data": {
      "text/plain": "25"
     },
     "metadata": {},
     "execution_count": 26
    }
   ],
   "source": [
    "matrix.trace()"
   ]
  },
  {
   "cell_type": "code",
   "execution_count": 27,
   "metadata": {},
   "outputs": [
    {
     "output_type": "execute_result",
     "data": {
      "text/plain": "25"
     },
     "metadata": {},
     "execution_count": 27
    }
   ],
   "source": [
    "sum(matrix.diagonal())"
   ]
  },
  {
   "cell_type": "markdown",
   "metadata": {},
   "source": [
    "Eigen vectors and Eigen values. Av = lv where l has eigen values and v has eigen vectors"
   ]
  },
  {
   "cell_type": "code",
   "execution_count": 28,
   "metadata": {},
   "outputs": [],
   "source": [
    "eigenvalues, eigenvectors = np.linalg.eig(matrix)"
   ]
  },
  {
   "cell_type": "code",
   "execution_count": 29,
   "metadata": {},
   "outputs": [
    {
     "output_type": "execute_result",
     "data": {
      "text/plain": "array([2.31418983e+01, 3.34650859e-16, 1.85810167e+00])"
     },
     "metadata": {},
     "execution_count": 29
    }
   ],
   "source": [
    "eigenvalues"
   ]
  },
  {
   "cell_type": "code",
   "execution_count": 30,
   "metadata": {},
   "outputs": [
    {
     "output_type": "execute_result",
     "data": {
      "text/plain": "array([[-0.15509967, -0.81970483, -0.40499321],\n       [-0.31019934,  0.56354707, -0.80998641],\n       [-0.93793415, -0.1024631 ,  0.42414916]])"
     },
     "metadata": {},
     "execution_count": 30
    }
   ],
   "source": [
    "eigenvectors"
   ]
  },
  {
   "cell_type": "code",
   "execution_count": 31,
   "metadata": {},
   "outputs": [],
   "source": [
    "vector_1 = np.array([1,2,3])\n",
    "vector_2 = np.array([4,5,6])"
   ]
  },
  {
   "cell_type": "code",
   "execution_count": 32,
   "metadata": {},
   "outputs": [
    {
     "output_type": "execute_result",
     "data": {
      "text/plain": "32"
     },
     "metadata": {},
     "execution_count": 32
    }
   ],
   "source": [
    "np.dot(vector_1, vector_2)"
   ]
  },
  {
   "cell_type": "code",
   "execution_count": 33,
   "metadata": {},
   "outputs": [
    {
     "output_type": "execute_result",
     "data": {
      "text/plain": "32"
     },
     "metadata": {},
     "execution_count": 33
    }
   ],
   "source": [
    "# Alternatively\n",
    "vector_1 @ vector_2"
   ]
  },
  {
   "cell_type": "code",
   "execution_count": 34,
   "metadata": {},
   "outputs": [],
   "source": [
    "\n",
    "    # Create matrix\n",
    "matrix_a = np.array([[1, 1, 1], [1, 1, 1],\n",
    "[1, 1, 2]])\n",
    "    # Create matrix\n",
    "matrix_b = np.array([[1, 3, 1], [1, 3, 1],\n",
    "[1, 3, 8]])"
   ]
  },
  {
   "cell_type": "code",
   "execution_count": 35,
   "metadata": {},
   "outputs": [
    {
     "output_type": "execute_result",
     "data": {
      "text/plain": "array([[ 2,  4,  2],\n       [ 2,  4,  2],\n       [ 2,  4, 10]])"
     },
     "metadata": {},
     "execution_count": 35
    }
   ],
   "source": [
    "np.add(matrix_a, matrix_b)"
   ]
  },
  {
   "cell_type": "code",
   "execution_count": 36,
   "metadata": {},
   "outputs": [
    {
     "output_type": "execute_result",
     "data": {
      "text/plain": "array([[ 0, -2,  0],\n       [ 0, -2,  0],\n       [ 0, -2, -6]])"
     },
     "metadata": {},
     "execution_count": 36
    }
   ],
   "source": [
    "np.subtract(matrix_a, matrix_b)"
   ]
  },
  {
   "cell_type": "code",
   "execution_count": 37,
   "metadata": {},
   "outputs": [
    {
     "output_type": "execute_result",
     "data": {
      "text/plain": "array([[ 2,  4,  2],\n       [ 2,  4,  2],\n       [ 2,  4, 10]])"
     },
     "metadata": {},
     "execution_count": 37
    }
   ],
   "source": [
    "# alternatively\n",
    "matrix_a+matrix_b"
   ]
  },
  {
   "cell_type": "code",
   "execution_count": 38,
   "metadata": {},
   "outputs": [
    {
     "output_type": "execute_result",
     "data": {
      "text/plain": "array([[ 3,  9, 10],\n       [ 3,  9, 10],\n       [ 4, 12, 18]])"
     },
     "metadata": {},
     "execution_count": 38
    }
   ],
   "source": [
    "np.dot(matrix_a, matrix_b)"
   ]
  },
  {
   "cell_type": "code",
   "execution_count": 39,
   "metadata": {},
   "outputs": [
    {
     "output_type": "execute_result",
     "data": {
      "text/plain": "array([[ 3,  9, 10],\n       [ 3,  9, 10],\n       [ 4, 12, 18]])"
     },
     "metadata": {},
     "execution_count": 39
    }
   ],
   "source": [
    "matrix_a @ matrix_b"
   ]
  },
  {
   "cell_type": "code",
   "execution_count": 40,
   "metadata": {},
   "outputs": [
    {
     "output_type": "execute_result",
     "data": {
      "text/plain": "array([[ 1,  3,  1],\n       [ 1,  3,  1],\n       [ 1,  3, 16]])"
     },
     "metadata": {},
     "execution_count": 40
    }
   ],
   "source": [
    "# element-wise \n",
    "matrix_a * matrix_b"
   ]
  },
  {
   "cell_type": "code",
   "execution_count": 41,
   "metadata": {},
   "outputs": [],
   "source": [
    "matrix = np.array([[1, 4], [2, 5]])"
   ]
  },
  {
   "cell_type": "code",
   "execution_count": 42,
   "metadata": {},
   "outputs": [
    {
     "output_type": "execute_result",
     "data": {
      "text/plain": "array([[-1.66666667,  1.33333333],\n       [ 0.66666667, -0.33333333]])"
     },
     "metadata": {},
     "execution_count": 42
    }
   ],
   "source": [
    "np.linalg.inv(matrix)"
   ]
  },
  {
   "cell_type": "code",
   "execution_count": 43,
   "metadata": {},
   "outputs": [],
   "source": [
    "np.random.seed(0)"
   ]
  },
  {
   "cell_type": "code",
   "execution_count": 44,
   "metadata": {},
   "outputs": [
    {
     "output_type": "execute_result",
     "data": {
      "text/plain": "array([0.5488135 , 0.71518937, 0.60276338])"
     },
     "metadata": {},
     "execution_count": 44
    }
   ],
   "source": [
    "np.random.rand(3)"
   ]
  },
  {
   "cell_type": "code",
   "execution_count": 45,
   "metadata": {},
   "outputs": [
    {
     "output_type": "execute_result",
     "data": {
      "text/plain": "array([0.54488318, 0.4236548 , 0.64589411])"
     },
     "metadata": {},
     "execution_count": 45
    }
   ],
   "source": [
    "np.random.random(3)"
   ]
  },
  {
   "cell_type": "code",
   "execution_count": 46,
   "metadata": {},
   "outputs": [
    {
     "output_type": "execute_result",
     "data": {
      "text/plain": "array([4, 7, 6])"
     },
     "metadata": {},
     "execution_count": 46
    }
   ],
   "source": [
    "np.random.randint(0,11,3)"
   ]
  },
  {
   "cell_type": "code",
   "execution_count": 47,
   "metadata": {},
   "outputs": [
    {
     "output_type": "execute_result",
     "data": {
      "text/plain": "array([-0.05503512, -0.10731045,  1.36546718])"
     },
     "metadata": {},
     "execution_count": 47
    }
   ],
   "source": [
    "np.random.normal(0,1,3)"
   ]
  },
  {
   "cell_type": "code",
   "execution_count": 48,
   "metadata": {},
   "outputs": [
    {
     "output_type": "execute_result",
     "data": {
      "text/plain": "array([-0.16026833, -0.87124279,  3.25867355, -1.34983899])"
     },
     "metadata": {},
     "execution_count": 48
    }
   ],
   "source": [
    "np.random.logistic(0,2,4)"
   ]
  },
  {
   "cell_type": "code",
   "execution_count": 49,
   "metadata": {},
   "outputs": [
    {
     "output_type": "execute_result",
     "data": {
      "text/plain": "array([3.64817187, 3.36824154, 3.95715516, 3.14035078, 3.87008726])"
     },
     "metadata": {},
     "execution_count": 49
    }
   ],
   "source": [
    "np.random.uniform(3,4,5)"
   ]
  },
  {
   "cell_type": "markdown",
   "metadata": {},
   "source": [
    "# Loading Data"
   ]
  },
  {
   "cell_type": "code",
   "execution_count": 50,
   "metadata": {},
   "outputs": [],
   "source": [
    "from sklearn import datasets"
   ]
  },
  {
   "cell_type": "code",
   "execution_count": 51,
   "metadata": {},
   "outputs": [],
   "source": [
    "digits = datasets.load_digits()"
   ]
  },
  {
   "cell_type": "code",
   "execution_count": 52,
   "metadata": {},
   "outputs": [],
   "source": [
    "features = digits.data"
   ]
  },
  {
   "cell_type": "code",
   "execution_count": 53,
   "metadata": {},
   "outputs": [],
   "source": [
    "target = digits.target"
   ]
  },
  {
   "cell_type": "code",
   "execution_count": 54,
   "metadata": {},
   "outputs": [
    {
     "output_type": "execute_result",
     "data": {
      "text/plain": "array([ 0.,  0.,  5., 13.,  9.,  1.,  0.,  0.,  0.,  0., 13., 15., 10.,\n       15.,  5.,  0.,  0.,  3., 15.,  2.,  0., 11.,  8.,  0.,  0.,  4.,\n       12.,  0.,  0.,  8.,  8.,  0.,  0.,  5.,  8.,  0.,  0.,  9.,  8.,\n        0.,  0.,  4., 11.,  0.,  1., 12.,  7.,  0.,  0.,  2., 14.,  5.,\n       10., 12.,  0.,  0.,  0.,  0.,  6., 13., 10.,  0.,  0.,  0.])"
     },
     "metadata": {},
     "execution_count": 54
    }
   ],
   "source": [
    "features[0]"
   ]
  },
  {
   "cell_type": "code",
   "execution_count": 55,
   "metadata": {},
   "outputs": [],
   "source": [
    "from sklearn.datasets import make_regression"
   ]
  },
  {
   "cell_type": "code",
   "execution_count": 56,
   "metadata": {},
   "outputs": [],
   "source": [
    "features, target, coefficients = make_regression(n_samples=100,\n",
    "n_features=3, n_informative=3, n_targets=1, noise=0.0, coef=True, random_state=1)"
   ]
  },
  {
   "cell_type": "code",
   "execution_count": 57,
   "metadata": {},
   "outputs": [
    {
     "output_type": "stream",
     "name": "stdout",
     "text": "Feature Matrix\n [[ 1.29322588 -0.61736206 -0.11044703]\n [-2.793085    0.36633201  1.93752881]\n [ 0.80186103 -0.18656977  0.0465673 ]]\n"
    }
   ],
   "source": [
    "print('Feature Matrix\\n', features[:3])"
   ]
  },
  {
   "cell_type": "code",
   "execution_count": 58,
   "metadata": {},
   "outputs": [
    {
     "output_type": "stream",
     "name": "stdout",
     "text": "Target Vector\n [-10.37865986  25.5124503   19.67705609]\n"
    }
   ],
   "source": [
    "print('Target Vector\\n', target[:3])"
   ]
  },
  {
   "cell_type": "code",
   "execution_count": 59,
   "metadata": {},
   "outputs": [],
   "source": [
    "from sklearn.datasets import make_classification"
   ]
  },
  {
   "cell_type": "code",
   "execution_count": 60,
   "metadata": {},
   "outputs": [],
   "source": [
    "features, target = make_classification(n_samples=100,\n",
    "n_features=3, n_informative=3, n_redundant=0, n_classes=2, weights=[.25, .75], random_state=1)"
   ]
  },
  {
   "cell_type": "code",
   "execution_count": 61,
   "metadata": {},
   "outputs": [
    {
     "output_type": "stream",
     "name": "stdout",
     "text": "Feature Matrix\n [[ 1.06354768 -1.42632219  1.02163151]\n [ 0.23156977  1.49535261  0.33251578]\n [ 0.15972951  0.83533515 -0.40869554]]\n"
    }
   ],
   "source": [
    "print('Feature Matrix\\n', features[:3])"
   ]
  },
  {
   "cell_type": "code",
   "execution_count": 62,
   "metadata": {},
   "outputs": [
    {
     "output_type": "stream",
     "name": "stdout",
     "text": "Target Matrix\n [1 0 0]\n"
    }
   ],
   "source": [
    "print('Target Matrix\\n', target[:3])"
   ]
  },
  {
   "cell_type": "code",
   "execution_count": 63,
   "metadata": {},
   "outputs": [],
   "source": [
    "from sklearn.datasets import make_blobs"
   ]
  },
  {
   "cell_type": "code",
   "execution_count": 64,
   "metadata": {},
   "outputs": [],
   "source": [
    "features, target = make_blobs(n_samples=100, n_features=2,\n",
    "centers=3, cluster_std=0.5, shuffle=True, random_state=1)"
   ]
  },
  {
   "cell_type": "code",
   "execution_count": 65,
   "metadata": {},
   "outputs": [
    {
     "output_type": "stream",
     "name": "stdout",
     "text": "Feature Matrix\n [[ -1.22685609   3.25572052]\n [ -9.57463218  -4.38310652]\n [-10.71976941  -4.20558148]]\n"
    }
   ],
   "source": [
    "print('Feature Matrix\\n', features[:3])"
   ]
  },
  {
   "cell_type": "code",
   "execution_count": 66,
   "metadata": {},
   "outputs": [
    {
     "output_type": "stream",
     "name": "stdout",
     "text": "Target Matrix\n [[ -1.22685609   3.25572052]\n [ -9.57463218  -4.38310652]\n [-10.71976941  -4.20558148]]\n"
    }
   ],
   "source": [
    "print('Target Matrix\\n', features[:3])"
   ]
  },
  {
   "cell_type": "code",
   "execution_count": 67,
   "metadata": {},
   "outputs": [],
   "source": [
    "import matplotlib.pyplot as plt"
   ]
  },
  {
   "cell_type": "code",
   "execution_count": 68,
   "metadata": {},
   "outputs": [
    {
     "output_type": "display_data",
     "data": {
      "text/plain": "<Figure size 432x288 with 1 Axes>",
      "image/svg+xml": "<?xml version=\"1.0\" encoding=\"utf-8\" standalone=\"no\"?>\n<!DOCTYPE svg PUBLIC \"-//W3C//DTD SVG 1.1//EN\"\n  \"http://www.w3.org/Graphics/SVG/1.1/DTD/svg11.dtd\">\n<!-- Created with matplotlib (https://matplotlib.org/) -->\n<svg height=\"249.677924pt\" version=\"1.1\" viewBox=\"0 0 377.304687 249.677924\" width=\"377.304687pt\" xmlns=\"http://www.w3.org/2000/svg\" xmlns:xlink=\"http://www.w3.org/1999/xlink\">\n <defs>\n  <style type=\"text/css\">\n*{stroke-linecap:butt;stroke-linejoin:round;}\n  </style>\n </defs>\n <g id=\"figure_1\">\n  <g id=\"patch_1\">\n   <path d=\"M 0 249.677924 \nL 377.304687 249.677924 \nL 377.304687 0 \nL 0 0 \nz\n\" style=\"fill:none;\"/>\n  </g>\n  <g id=\"axes_1\">\n   <g id=\"patch_2\">\n    <path d=\"M 35.304688 225.799799 \nL 370.104688 225.799799 \nL 370.104688 8.359799 \nL 35.304688 8.359799 \nz\n\" style=\"fill:#ffffff;\"/>\n   </g>\n   <g id=\"PathCollection_1\">\n    <defs>\n     <path d=\"M 0 3 \nC 0.795609 3 1.55874 2.683901 2.12132 2.12132 \nC 2.683901 1.55874 3 0.795609 3 0 \nC 3 -0.795609 2.683901 -1.55874 2.12132 -2.12132 \nC 1.55874 -2.683901 0.795609 -3 0 -3 \nC -0.795609 -3 -1.55874 -2.683901 -2.12132 -2.12132 \nC -2.683901 -1.55874 -3 -0.795609 -3 0 \nC -3 0.795609 -2.683901 1.55874 -2.12132 2.12132 \nC -1.55874 2.683901 -0.795609 3 0 3 \nz\n\" id=\"C0_0_1848b159cc\"/>\n    </defs>\n    <g clip-path=\"url(#pc63c1c303a)\">\n     <use style=\"fill:#440154;stroke:#440154;\" x=\"335.493951\" xlink:href=\"#C0_0_1848b159cc\" y=\"47.585145\"/>\n    </g>\n    <g clip-path=\"url(#pc63c1c303a)\">\n     <use style=\"fill:#21918c;stroke:#21918c;\" x=\"90.245269\" xlink:href=\"#C0_0_1848b159cc\" y=\"149.42374\"/>\n    </g>\n    <g clip-path=\"url(#pc63c1c303a)\">\n     <use style=\"fill:#21918c;stroke:#21918c;\" x=\"56.602369\" xlink:href=\"#C0_0_1848b159cc\" y=\"147.057029\"/>\n    </g>\n    <g clip-path=\"url(#pc63c1c303a)\">\n     <use style=\"fill:#21918c;stroke:#21918c;\" x=\"81.195592\" xlink:href=\"#C0_0_1848b159cc\" y=\"138.614879\"/>\n    </g>\n    <g clip-path=\"url(#pc63c1c303a)\">\n     <use style=\"fill:#fde725;stroke:#fde725;\" x=\"201.118769\" xlink:href=\"#C0_0_1848b159cc\" y=\"201.343255\"/>\n    </g>\n    <g clip-path=\"url(#pc63c1c303a)\">\n     <use style=\"fill:#fde725;stroke:#fde725;\" x=\"175.757931\" xlink:href=\"#C0_0_1848b159cc\" y=\"199.375481\"/>\n    </g>\n    <g clip-path=\"url(#pc63c1c303a)\">\n     <use style=\"fill:#fde725;stroke:#fde725;\" x=\"173.968884\" xlink:href=\"#C0_0_1848b159cc\" y=\"201.817643\"/>\n    </g>\n    <g clip-path=\"url(#pc63c1c303a)\">\n     <use style=\"fill:#21918c;stroke:#21918c;\" x=\"89.46153\" xlink:href=\"#C0_0_1848b159cc\" y=\"147.850698\"/>\n    </g>\n    <g clip-path=\"url(#pc63c1c303a)\">\n     <use style=\"fill:#440154;stroke:#440154;\" x=\"306.614075\" xlink:href=\"#C0_0_1848b159cc\" y=\"24.612867\"/>\n    </g>\n    <g clip-path=\"url(#pc63c1c303a)\">\n     <use style=\"fill:#440154;stroke:#440154;\" x=\"329.957647\" xlink:href=\"#C0_0_1848b159cc\" y=\"32.747177\"/>\n    </g>\n    <g clip-path=\"url(#pc63c1c303a)\">\n     <use style=\"fill:#21918c;stroke:#21918c;\" x=\"77.247207\" xlink:href=\"#C0_0_1848b159cc\" y=\"154.464834\"/>\n    </g>\n    <g clip-path=\"url(#pc63c1c303a)\">\n     <use style=\"fill:#21918c;stroke:#21918c;\" x=\"79.605113\" xlink:href=\"#C0_0_1848b159cc\" y=\"136.16536\"/>\n    </g>\n    <g clip-path=\"url(#pc63c1c303a)\">\n     <use style=\"fill:#fde725;stroke:#fde725;\" x=\"162.356616\" xlink:href=\"#C0_0_1848b159cc\" y=\"203.801137\"/>\n    </g>\n    <g clip-path=\"url(#pc63c1c303a)\">\n     <use style=\"fill:#440154;stroke:#440154;\" x=\"311.806225\" xlink:href=\"#C0_0_1848b159cc\" y=\"20.961774\"/>\n    </g>\n    <g clip-path=\"url(#pc63c1c303a)\">\n     <use style=\"fill:#fde725;stroke:#fde725;\" x=\"196.159225\" xlink:href=\"#C0_0_1848b159cc\" y=\"212.326755\"/>\n    </g>\n    <g clip-path=\"url(#pc63c1c303a)\">\n     <use style=\"fill:#fde725;stroke:#fde725;\" x=\"178.467757\" xlink:href=\"#C0_0_1848b159cc\" y=\"198.262507\"/>\n    </g>\n    <g clip-path=\"url(#pc63c1c303a)\">\n     <use style=\"fill:#fde725;stroke:#fde725;\" x=\"167.394244\" xlink:href=\"#C0_0_1848b159cc\" y=\"195.136105\"/>\n    </g>\n    <g clip-path=\"url(#pc63c1c303a)\">\n     <use style=\"fill:#440154;stroke:#440154;\" x=\"312.687381\" xlink:href=\"#C0_0_1848b159cc\" y=\"37.877444\"/>\n    </g>\n    <g clip-path=\"url(#pc63c1c303a)\">\n     <use style=\"fill:#21918c;stroke:#21918c;\" x=\"72.764598\" xlink:href=\"#C0_0_1848b159cc\" y=\"143.403723\"/>\n    </g>\n    <g clip-path=\"url(#pc63c1c303a)\">\n     <use style=\"fill:#21918c;stroke:#21918c;\" x=\"61.731958\" xlink:href=\"#C0_0_1848b159cc\" y=\"142.565255\"/>\n    </g>\n    <g clip-path=\"url(#pc63c1c303a)\">\n     <use style=\"fill:#fde725;stroke:#fde725;\" x=\"172.245682\" xlink:href=\"#C0_0_1848b159cc\" y=\"198.081174\"/>\n    </g>\n    <g clip-path=\"url(#pc63c1c303a)\">\n     <use style=\"fill:#21918c;stroke:#21918c;\" x=\"73.905017\" xlink:href=\"#C0_0_1848b159cc\" y=\"143.47693\"/>\n    </g>\n    <g clip-path=\"url(#pc63c1c303a)\">\n     <use style=\"fill:#fde725;stroke:#fde725;\" x=\"167.63375\" xlink:href=\"#C0_0_1848b159cc\" y=\"201.663258\"/>\n    </g>\n    <g clip-path=\"url(#pc63c1c303a)\">\n     <use style=\"fill:#440154;stroke:#440154;\" x=\"327.468091\" xlink:href=\"#C0_0_1848b159cc\" y=\"33.905693\"/>\n    </g>\n    <g clip-path=\"url(#pc63c1c303a)\">\n     <use style=\"fill:#21918c;stroke:#21918c;\" x=\"72.30289\" xlink:href=\"#C0_0_1848b159cc\" y=\"147.952016\"/>\n    </g>\n    <g clip-path=\"url(#pc63c1c303a)\">\n     <use style=\"fill:#fde725;stroke:#fde725;\" x=\"159.423575\" xlink:href=\"#C0_0_1848b159cc\" y=\"215.916162\"/>\n    </g>\n    <g clip-path=\"url(#pc63c1c303a)\">\n     <use style=\"fill:#fde725;stroke:#fde725;\" x=\"170.46243\" xlink:href=\"#C0_0_1848b159cc\" y=\"200.353512\"/>\n    </g>\n    <g clip-path=\"url(#pc63c1c303a)\">\n     <use style=\"fill:#440154;stroke:#440154;\" x=\"327.190919\" xlink:href=\"#C0_0_1848b159cc\" y=\"34.591473\"/>\n    </g>\n    <g clip-path=\"url(#pc63c1c303a)\">\n     <use style=\"fill:#440154;stroke:#440154;\" x=\"344.259158\" xlink:href=\"#C0_0_1848b159cc\" y=\"45.976022\"/>\n    </g>\n    <g clip-path=\"url(#pc63c1c303a)\">\n     <use style=\"fill:#fde725;stroke:#fde725;\" x=\"171.62601\" xlink:href=\"#C0_0_1848b159cc\" y=\"207.313903\"/>\n    </g>\n    <g clip-path=\"url(#pc63c1c303a)\">\n     <use style=\"fill:#440154;stroke:#440154;\" x=\"318.846447\" xlink:href=\"#C0_0_1848b159cc\" y=\"28.708155\"/>\n    </g>\n    <g clip-path=\"url(#pc63c1c303a)\">\n     <use style=\"fill:#440154;stroke:#440154;\" x=\"305.9986\" xlink:href=\"#C0_0_1848b159cc\" y=\"34.572094\"/>\n    </g>\n    <g clip-path=\"url(#pc63c1c303a)\">\n     <use style=\"fill:#fde725;stroke:#fde725;\" x=\"156.383184\" xlink:href=\"#C0_0_1848b159cc\" y=\"206.331926\"/>\n    </g>\n    <g clip-path=\"url(#pc63c1c303a)\">\n     <use style=\"fill:#440154;stroke:#440154;\" x=\"319.963617\" xlink:href=\"#C0_0_1848b159cc\" y=\"38.160231\"/>\n    </g>\n    <g clip-path=\"url(#pc63c1c303a)\">\n     <use style=\"fill:#21918c;stroke:#21918c;\" x=\"101.724938\" xlink:href=\"#C0_0_1848b159cc\" y=\"141.441197\"/>\n    </g>\n    <g clip-path=\"url(#pc63c1c303a)\">\n     <use style=\"fill:#fde725;stroke:#fde725;\" x=\"161.238414\" xlink:href=\"#C0_0_1848b159cc\" y=\"200.364115\"/>\n    </g>\n    <g clip-path=\"url(#pc63c1c303a)\">\n     <use style=\"fill:#21918c;stroke:#21918c;\" x=\"95.427083\" xlink:href=\"#C0_0_1848b159cc\" y=\"142.460108\"/>\n    </g>\n    <g clip-path=\"url(#pc63c1c303a)\">\n     <use style=\"fill:#21918c;stroke:#21918c;\" x=\"57.645269\" xlink:href=\"#C0_0_1848b159cc\" y=\"141.593527\"/>\n    </g>\n    <g clip-path=\"url(#pc63c1c303a)\">\n     <use style=\"fill:#21918c;stroke:#21918c;\" x=\"75.158002\" xlink:href=\"#C0_0_1848b159cc\" y=\"147.719979\"/>\n    </g>\n    <g clip-path=\"url(#pc63c1c303a)\">\n     <use style=\"fill:#fde725;stroke:#fde725;\" x=\"161.974724\" xlink:href=\"#C0_0_1848b159cc\" y=\"200.47949\"/>\n    </g>\n    <g clip-path=\"url(#pc63c1c303a)\">\n     <use style=\"fill:#fde725;stroke:#fde725;\" x=\"168.101843\" xlink:href=\"#C0_0_1848b159cc\" y=\"200.173251\"/>\n    </g>\n    <g clip-path=\"url(#pc63c1c303a)\">\n     <use style=\"fill:#21918c;stroke:#21918c;\" x=\"82.964956\" xlink:href=\"#C0_0_1848b159cc\" y=\"152.441822\"/>\n    </g>\n    <g clip-path=\"url(#pc63c1c303a)\">\n     <use style=\"fill:#440154;stroke:#440154;\" x=\"318.045443\" xlink:href=\"#C0_0_1848b159cc\" y=\"34.803477\"/>\n    </g>\n    <g clip-path=\"url(#pc63c1c303a)\">\n     <use style=\"fill:#21918c;stroke:#21918c;\" x=\"59.746731\" xlink:href=\"#C0_0_1848b159cc\" y=\"140.024531\"/>\n    </g>\n    <g clip-path=\"url(#pc63c1c303a)\">\n     <use style=\"fill:#21918c;stroke:#21918c;\" x=\"80.72854\" xlink:href=\"#C0_0_1848b159cc\" y=\"142.901039\"/>\n    </g>\n    <g clip-path=\"url(#pc63c1c303a)\">\n     <use style=\"fill:#fde725;stroke:#fde725;\" x=\"171.756585\" xlink:href=\"#C0_0_1848b159cc\" y=\"198.767996\"/>\n    </g>\n    <g clip-path=\"url(#pc63c1c303a)\">\n     <use style=\"fill:#440154;stroke:#440154;\" x=\"336.025461\" xlink:href=\"#C0_0_1848b159cc\" y=\"28.893874\"/>\n    </g>\n    <g clip-path=\"url(#pc63c1c303a)\">\n     <use style=\"fill:#440154;stroke:#440154;\" x=\"354.886506\" xlink:href=\"#C0_0_1848b159cc\" y=\"41.552266\"/>\n    </g>\n    <g clip-path=\"url(#pc63c1c303a)\">\n     <use style=\"fill:#440154;stroke:#440154;\" x=\"306.36889\" xlink:href=\"#C0_0_1848b159cc\" y=\"30.680846\"/>\n    </g>\n    <g clip-path=\"url(#pc63c1c303a)\">\n     <use style=\"fill:#440154;stroke:#440154;\" x=\"320.976387\" xlink:href=\"#C0_0_1848b159cc\" y=\"38.481128\"/>\n    </g>\n    <g clip-path=\"url(#pc63c1c303a)\">\n     <use style=\"fill:#21918c;stroke:#21918c;\" x=\"74.549743\" xlink:href=\"#C0_0_1848b159cc\" y=\"145.032557\"/>\n    </g>\n    <g clip-path=\"url(#pc63c1c303a)\">\n     <use style=\"fill:#fde725;stroke:#fde725;\" x=\"173.660111\" xlink:href=\"#C0_0_1848b159cc\" y=\"210.534157\"/>\n    </g>\n    <g clip-path=\"url(#pc63c1c303a)\">\n     <use style=\"fill:#fde725;stroke:#fde725;\" x=\"165.122174\" xlink:href=\"#C0_0_1848b159cc\" y=\"195.56386\"/>\n    </g>\n    <g clip-path=\"url(#pc63c1c303a)\">\n     <use style=\"fill:#fde725;stroke:#fde725;\" x=\"158.090339\" xlink:href=\"#C0_0_1848b159cc\" y=\"194.193192\"/>\n    </g>\n    <g clip-path=\"url(#pc63c1c303a)\">\n     <use style=\"fill:#440154;stroke:#440154;\" x=\"324.546649\" xlink:href=\"#C0_0_1848b159cc\" y=\"28.129242\"/>\n    </g>\n    <g clip-path=\"url(#pc63c1c303a)\">\n     <use style=\"fill:#fde725;stroke:#fde725;\" x=\"171.253412\" xlink:href=\"#C0_0_1848b159cc\" y=\"200.850438\"/>\n    </g>\n    <g clip-path=\"url(#pc63c1c303a)\">\n     <use style=\"fill:#21918c;stroke:#21918c;\" x=\"68.708145\" xlink:href=\"#C0_0_1848b159cc\" y=\"139.041355\"/>\n    </g>\n    <g clip-path=\"url(#pc63c1c303a)\">\n     <use style=\"fill:#21918c;stroke:#21918c;\" x=\"96.526413\" xlink:href=\"#C0_0_1848b159cc\" y=\"130.581923\"/>\n    </g>\n    <g clip-path=\"url(#pc63c1c303a)\">\n     <use style=\"fill:#440154;stroke:#440154;\" x=\"323.401676\" xlink:href=\"#C0_0_1848b159cc\" y=\"28.358467\"/>\n    </g>\n    <g clip-path=\"url(#pc63c1c303a)\">\n     <use style=\"fill:#440154;stroke:#440154;\" x=\"330.316242\" xlink:href=\"#C0_0_1848b159cc\" y=\"34.23047\"/>\n    </g>\n    <g clip-path=\"url(#pc63c1c303a)\">\n     <use style=\"fill:#21918c;stroke:#21918c;\" x=\"80.55611\" xlink:href=\"#C0_0_1848b159cc\" y=\"140.960989\"/>\n    </g>\n    <g clip-path=\"url(#pc63c1c303a)\">\n     <use style=\"fill:#fde725;stroke:#fde725;\" x=\"154.476166\" xlink:href=\"#C0_0_1848b159cc\" y=\"193.676713\"/>\n    </g>\n    <g clip-path=\"url(#pc63c1c303a)\">\n     <use style=\"fill:#fde725;stroke:#fde725;\" x=\"171.370538\" xlink:href=\"#C0_0_1848b159cc\" y=\"191.065439\"/>\n    </g>\n    <g clip-path=\"url(#pc63c1c303a)\">\n     <use style=\"fill:#21918c;stroke:#21918c;\" x=\"77.454014\" xlink:href=\"#C0_0_1848b159cc\" y=\"148.861447\"/>\n    </g>\n    <g clip-path=\"url(#pc63c1c303a)\">\n     <use style=\"fill:#21918c;stroke:#21918c;\" x=\"50.522869\" xlink:href=\"#C0_0_1848b159cc\" y=\"135.454246\"/>\n    </g>\n    <g clip-path=\"url(#pc63c1c303a)\">\n     <use style=\"fill:#fde725;stroke:#fde725;\" x=\"183.537413\" xlink:href=\"#C0_0_1848b159cc\" y=\"201.601044\"/>\n    </g>\n    <g clip-path=\"url(#pc63c1c303a)\">\n     <use style=\"fill:#440154;stroke:#440154;\" x=\"311.699878\" xlink:href=\"#C0_0_1848b159cc\" y=\"23.891992\"/>\n    </g>\n    <g clip-path=\"url(#pc63c1c303a)\">\n     <use style=\"fill:#fde725;stroke:#fde725;\" x=\"145.28582\" xlink:href=\"#C0_0_1848b159cc\" y=\"197.595829\"/>\n    </g>\n    <g clip-path=\"url(#pc63c1c303a)\">\n     <use style=\"fill:#440154;stroke:#440154;\" x=\"320.248701\" xlink:href=\"#C0_0_1848b159cc\" y=\"38.095102\"/>\n    </g>\n    <g clip-path=\"url(#pc63c1c303a)\">\n     <use style=\"fill:#21918c;stroke:#21918c;\" x=\"84.036528\" xlink:href=\"#C0_0_1848b159cc\" y=\"143.178796\"/>\n    </g>\n    <g clip-path=\"url(#pc63c1c303a)\">\n     <use style=\"fill:#21918c;stroke:#21918c;\" x=\"83.742699\" xlink:href=\"#C0_0_1848b159cc\" y=\"139.737626\"/>\n    </g>\n    <g clip-path=\"url(#pc63c1c303a)\">\n     <use style=\"fill:#21918c;stroke:#21918c;\" x=\"88.694\" xlink:href=\"#C0_0_1848b159cc\" y=\"150.051561\"/>\n    </g>\n    <g clip-path=\"url(#pc63c1c303a)\">\n     <use style=\"fill:#fde725;stroke:#fde725;\" x=\"172.82677\" xlink:href=\"#C0_0_1848b159cc\" y=\"196.884353\"/>\n    </g>\n    <g clip-path=\"url(#pc63c1c303a)\">\n     <use style=\"fill:#440154;stroke:#440154;\" x=\"335.105794\" xlink:href=\"#C0_0_1848b159cc\" y=\"26.036838\"/>\n    </g>\n    <g clip-path=\"url(#pc63c1c303a)\">\n     <use style=\"fill:#440154;stroke:#440154;\" x=\"347.16318\" xlink:href=\"#C0_0_1848b159cc\" y=\"27.29707\"/>\n    </g>\n    <g clip-path=\"url(#pc63c1c303a)\">\n     <use style=\"fill:#21918c;stroke:#21918c;\" x=\"82.452131\" xlink:href=\"#C0_0_1848b159cc\" y=\"157.174029\"/>\n    </g>\n    <g clip-path=\"url(#pc63c1c303a)\">\n     <use style=\"fill:#fde725;stroke:#fde725;\" x=\"176.742494\" xlink:href=\"#C0_0_1848b159cc\" y=\"194.683759\"/>\n    </g>\n    <g clip-path=\"url(#pc63c1c303a)\">\n     <use style=\"fill:#fde725;stroke:#fde725;\" x=\"164.620498\" xlink:href=\"#C0_0_1848b159cc\" y=\"201.19447\"/>\n    </g>\n    <g clip-path=\"url(#pc63c1c303a)\">\n     <use style=\"fill:#440154;stroke:#440154;\" x=\"315.023019\" xlink:href=\"#C0_0_1848b159cc\" y=\"39.395678\"/>\n    </g>\n    <g clip-path=\"url(#pc63c1c303a)\">\n     <use style=\"fill:#21918c;stroke:#21918c;\" x=\"71.247546\" xlink:href=\"#C0_0_1848b159cc\" y=\"135.531945\"/>\n    </g>\n    <g clip-path=\"url(#pc63c1c303a)\">\n     <use style=\"fill:#440154;stroke:#440154;\" x=\"339.404605\" xlink:href=\"#C0_0_1848b159cc\" y=\"22.112552\"/>\n    </g>\n    <g clip-path=\"url(#pc63c1c303a)\">\n     <use style=\"fill:#21918c;stroke:#21918c;\" x=\"60.199021\" xlink:href=\"#C0_0_1848b159cc\" y=\"137.939401\"/>\n    </g>\n    <g clip-path=\"url(#pc63c1c303a)\">\n     <use style=\"fill:#21918c;stroke:#21918c;\" x=\"80.166482\" xlink:href=\"#C0_0_1848b159cc\" y=\"137.85392\"/>\n    </g>\n    <g clip-path=\"url(#pc63c1c303a)\">\n     <use style=\"fill:#fde725;stroke:#fde725;\" x=\"191.957436\" xlink:href=\"#C0_0_1848b159cc\" y=\"192.279752\"/>\n    </g>\n    <g clip-path=\"url(#pc63c1c303a)\">\n     <use style=\"fill:#440154;stroke:#440154;\" x=\"312.621454\" xlink:href=\"#C0_0_1848b159cc\" y=\"34.888128\"/>\n    </g>\n    <g clip-path=\"url(#pc63c1c303a)\">\n     <use style=\"fill:#440154;stroke:#440154;\" x=\"339.436042\" xlink:href=\"#C0_0_1848b159cc\" y=\"39.57514\"/>\n    </g>\n    <g clip-path=\"url(#pc63c1c303a)\">\n     <use style=\"fill:#440154;stroke:#440154;\" x=\"325.586024\" xlink:href=\"#C0_0_1848b159cc\" y=\"18.243435\"/>\n    </g>\n    <g clip-path=\"url(#pc63c1c303a)\">\n     <use style=\"fill:#440154;stroke:#440154;\" x=\"336.014668\" xlink:href=\"#C0_0_1848b159cc\" y=\"36.801056\"/>\n    </g>\n    <g clip-path=\"url(#pc63c1c303a)\">\n     <use style=\"fill:#21918c;stroke:#21918c;\" x=\"73.317651\" xlink:href=\"#C0_0_1848b159cc\" y=\"138.175176\"/>\n    </g>\n    <g clip-path=\"url(#pc63c1c303a)\">\n     <use style=\"fill:#440154;stroke:#440154;\" x=\"312.921334\" xlink:href=\"#C0_0_1848b159cc\" y=\"32.327847\"/>\n    </g>\n    <g clip-path=\"url(#pc63c1c303a)\">\n     <use style=\"fill:#fde725;stroke:#fde725;\" x=\"181.023773\" xlink:href=\"#C0_0_1848b159cc\" y=\"197.222908\"/>\n    </g>\n    <g clip-path=\"url(#pc63c1c303a)\">\n     <use style=\"fill:#440154;stroke:#440154;\" x=\"323.527917\" xlink:href=\"#C0_0_1848b159cc\" y=\"36.489546\"/>\n    </g>\n    <g clip-path=\"url(#pc63c1c303a)\">\n     <use style=\"fill:#440154;stroke:#440154;\" x=\"319.713034\" xlink:href=\"#C0_0_1848b159cc\" y=\"28.333083\"/>\n    </g>\n    <g clip-path=\"url(#pc63c1c303a)\">\n     <use style=\"fill:#21918c;stroke:#21918c;\" x=\"67.963955\" xlink:href=\"#C0_0_1848b159cc\" y=\"141.177549\"/>\n    </g>\n    <g clip-path=\"url(#pc63c1c303a)\">\n     <use style=\"fill:#21918c;stroke:#21918c;\" x=\"94.288647\" xlink:href=\"#C0_0_1848b159cc\" y=\"140.968663\"/>\n    </g>\n    <g clip-path=\"url(#pc63c1c303a)\">\n     <use style=\"fill:#fde725;stroke:#fde725;\" x=\"179.238799\" xlink:href=\"#C0_0_1848b159cc\" y=\"185.107807\"/>\n    </g>\n    <g clip-path=\"url(#pc63c1c303a)\">\n     <use style=\"fill:#fde725;stroke:#fde725;\" x=\"164.234759\" xlink:href=\"#C0_0_1848b159cc\" y=\"207.165104\"/>\n    </g>\n    <g clip-path=\"url(#pc63c1c303a)\">\n     <use style=\"fill:#440154;stroke:#440154;\" x=\"326.976703\" xlink:href=\"#C0_0_1848b159cc\" y=\"26.343206\"/>\n    </g>\n    <g clip-path=\"url(#pc63c1c303a)\">\n     <use style=\"fill:#fde725;stroke:#fde725;\" x=\"175.891468\" xlink:href=\"#C0_0_1848b159cc\" y=\"192.723795\"/>\n    </g>\n    <g clip-path=\"url(#pc63c1c303a)\">\n     <use style=\"fill:#440154;stroke:#440154;\" x=\"348.411925\" xlink:href=\"#C0_0_1848b159cc\" y=\"37.31752\"/>\n    </g>\n   </g>\n   <g id=\"matplotlib.axis_1\">\n    <g id=\"xtick_1\">\n     <g id=\"line2d_1\">\n      <defs>\n       <path d=\"M 0 0 \nL 0 3.5 \n\" id=\"m267bb58cfe\" style=\"stroke:#000000;stroke-width:0.8;\"/>\n      </defs>\n      <g>\n       <use style=\"stroke:#000000;stroke-width:0.8;\" x=\"77.748419\" xlink:href=\"#m267bb58cfe\" y=\"225.799799\"/>\n      </g>\n     </g>\n     <g id=\"text_1\">\n      <!-- −10 -->\n      <defs>\n       <path d=\"M 10.59375 35.5 \nL 73.1875 35.5 \nL 73.1875 27.203125 \nL 10.59375 27.203125 \nz\n\" id=\"DejaVuSans-8722\"/>\n       <path d=\"M 12.40625 8.296875 \nL 28.515625 8.296875 \nL 28.515625 63.921875 \nL 10.984375 60.40625 \nL 10.984375 69.390625 \nL 28.421875 72.90625 \nL 38.28125 72.90625 \nL 38.28125 8.296875 \nL 54.390625 8.296875 \nL 54.390625 0 \nL 12.40625 0 \nz\n\" id=\"DejaVuSans-49\"/>\n       <path d=\"M 31.78125 66.40625 \nQ 24.171875 66.40625 20.328125 58.90625 \nQ 16.5 51.421875 16.5 36.375 \nQ 16.5 21.390625 20.328125 13.890625 \nQ 24.171875 6.390625 31.78125 6.390625 \nQ 39.453125 6.390625 43.28125 13.890625 \nQ 47.125 21.390625 47.125 36.375 \nQ 47.125 51.421875 43.28125 58.90625 \nQ 39.453125 66.40625 31.78125 66.40625 \nz\nM 31.78125 74.21875 \nQ 44.046875 74.21875 50.515625 64.515625 \nQ 56.984375 54.828125 56.984375 36.375 \nQ 56.984375 17.96875 50.515625 8.265625 \nQ 44.046875 -1.421875 31.78125 -1.421875 \nQ 19.53125 -1.421875 13.0625 8.265625 \nQ 6.59375 17.96875 6.59375 36.375 \nQ 6.59375 54.828125 13.0625 64.515625 \nQ 19.53125 74.21875 31.78125 74.21875 \nz\n\" id=\"DejaVuSans-48\"/>\n      </defs>\n      <g transform=\"translate(67.196076 240.398236)scale(0.1 -0.1)\">\n       <use xlink:href=\"#DejaVuSans-8722\"/>\n       <use x=\"83.789062\" xlink:href=\"#DejaVuSans-49\"/>\n       <use x=\"147.412109\" xlink:href=\"#DejaVuSans-48\"/>\n      </g>\n     </g>\n    </g>\n    <g id=\"xtick_2\">\n     <g id=\"line2d_2\">\n      <g>\n       <use style=\"stroke:#000000;stroke-width:0.8;\" x=\"136.506268\" xlink:href=\"#m267bb58cfe\" y=\"225.799799\"/>\n      </g>\n     </g>\n     <g id=\"text_2\">\n      <!-- −8 -->\n      <defs>\n       <path d=\"M 31.78125 34.625 \nQ 24.75 34.625 20.71875 30.859375 \nQ 16.703125 27.09375 16.703125 20.515625 \nQ 16.703125 13.921875 20.71875 10.15625 \nQ 24.75 6.390625 31.78125 6.390625 \nQ 38.8125 6.390625 42.859375 10.171875 \nQ 46.921875 13.96875 46.921875 20.515625 \nQ 46.921875 27.09375 42.890625 30.859375 \nQ 38.875 34.625 31.78125 34.625 \nz\nM 21.921875 38.8125 \nQ 15.578125 40.375 12.03125 44.71875 \nQ 8.5 49.078125 8.5 55.328125 \nQ 8.5 64.0625 14.71875 69.140625 \nQ 20.953125 74.21875 31.78125 74.21875 \nQ 42.671875 74.21875 48.875 69.140625 \nQ 55.078125 64.0625 55.078125 55.328125 \nQ 55.078125 49.078125 51.53125 44.71875 \nQ 48 40.375 41.703125 38.8125 \nQ 48.828125 37.15625 52.796875 32.3125 \nQ 56.78125 27.484375 56.78125 20.515625 \nQ 56.78125 9.90625 50.3125 4.234375 \nQ 43.84375 -1.421875 31.78125 -1.421875 \nQ 19.734375 -1.421875 13.25 4.234375 \nQ 6.78125 9.90625 6.78125 20.515625 \nQ 6.78125 27.484375 10.78125 32.3125 \nQ 14.796875 37.15625 21.921875 38.8125 \nz\nM 18.3125 54.390625 \nQ 18.3125 48.734375 21.84375 45.5625 \nQ 25.390625 42.390625 31.78125 42.390625 \nQ 38.140625 42.390625 41.71875 45.5625 \nQ 45.3125 48.734375 45.3125 54.390625 \nQ 45.3125 60.0625 41.71875 63.234375 \nQ 38.140625 66.40625 31.78125 66.40625 \nQ 25.390625 66.40625 21.84375 63.234375 \nQ 18.3125 60.0625 18.3125 54.390625 \nz\n\" id=\"DejaVuSans-56\"/>\n      </defs>\n      <g transform=\"translate(129.135175 240.398236)scale(0.1 -0.1)\">\n       <use xlink:href=\"#DejaVuSans-8722\"/>\n       <use x=\"83.789062\" xlink:href=\"#DejaVuSans-56\"/>\n      </g>\n     </g>\n    </g>\n    <g id=\"xtick_3\">\n     <g id=\"line2d_3\">\n      <g>\n       <use style=\"stroke:#000000;stroke-width:0.8;\" x=\"195.264117\" xlink:href=\"#m267bb58cfe\" y=\"225.799799\"/>\n      </g>\n     </g>\n     <g id=\"text_3\">\n      <!-- −6 -->\n      <defs>\n       <path d=\"M 33.015625 40.375 \nQ 26.375 40.375 22.484375 35.828125 \nQ 18.609375 31.296875 18.609375 23.390625 \nQ 18.609375 15.53125 22.484375 10.953125 \nQ 26.375 6.390625 33.015625 6.390625 \nQ 39.65625 6.390625 43.53125 10.953125 \nQ 47.40625 15.53125 47.40625 23.390625 \nQ 47.40625 31.296875 43.53125 35.828125 \nQ 39.65625 40.375 33.015625 40.375 \nz\nM 52.59375 71.296875 \nL 52.59375 62.3125 \nQ 48.875 64.0625 45.09375 64.984375 \nQ 41.3125 65.921875 37.59375 65.921875 \nQ 27.828125 65.921875 22.671875 59.328125 \nQ 17.53125 52.734375 16.796875 39.40625 \nQ 19.671875 43.65625 24.015625 45.921875 \nQ 28.375 48.1875 33.59375 48.1875 \nQ 44.578125 48.1875 50.953125 41.515625 \nQ 57.328125 34.859375 57.328125 23.390625 \nQ 57.328125 12.15625 50.6875 5.359375 \nQ 44.046875 -1.421875 33.015625 -1.421875 \nQ 20.359375 -1.421875 13.671875 8.265625 \nQ 6.984375 17.96875 6.984375 36.375 \nQ 6.984375 53.65625 15.1875 63.9375 \nQ 23.390625 74.21875 37.203125 74.21875 \nQ 40.921875 74.21875 44.703125 73.484375 \nQ 48.484375 72.75 52.59375 71.296875 \nz\n\" id=\"DejaVuSans-54\"/>\n      </defs>\n      <g transform=\"translate(187.893023 240.398236)scale(0.1 -0.1)\">\n       <use xlink:href=\"#DejaVuSans-8722\"/>\n       <use x=\"83.789062\" xlink:href=\"#DejaVuSans-54\"/>\n      </g>\n     </g>\n    </g>\n    <g id=\"xtick_4\">\n     <g id=\"line2d_4\">\n      <g>\n       <use style=\"stroke:#000000;stroke-width:0.8;\" x=\"254.021966\" xlink:href=\"#m267bb58cfe\" y=\"225.799799\"/>\n      </g>\n     </g>\n     <g id=\"text_4\">\n      <!-- −4 -->\n      <defs>\n       <path d=\"M 37.796875 64.3125 \nL 12.890625 25.390625 \nL 37.796875 25.390625 \nz\nM 35.203125 72.90625 \nL 47.609375 72.90625 \nL 47.609375 25.390625 \nL 58.015625 25.390625 \nL 58.015625 17.1875 \nL 47.609375 17.1875 \nL 47.609375 0 \nL 37.796875 0 \nL 37.796875 17.1875 \nL 4.890625 17.1875 \nL 4.890625 26.703125 \nz\n\" id=\"DejaVuSans-52\"/>\n      </defs>\n      <g transform=\"translate(246.650872 240.398236)scale(0.1 -0.1)\">\n       <use xlink:href=\"#DejaVuSans-8722\"/>\n       <use x=\"83.789062\" xlink:href=\"#DejaVuSans-52\"/>\n      </g>\n     </g>\n    </g>\n    <g id=\"xtick_5\">\n     <g id=\"line2d_5\">\n      <g>\n       <use style=\"stroke:#000000;stroke-width:0.8;\" x=\"312.779815\" xlink:href=\"#m267bb58cfe\" y=\"225.799799\"/>\n      </g>\n     </g>\n     <g id=\"text_5\">\n      <!-- −2 -->\n      <defs>\n       <path d=\"M 19.1875 8.296875 \nL 53.609375 8.296875 \nL 53.609375 0 \nL 7.328125 0 \nL 7.328125 8.296875 \nQ 12.9375 14.109375 22.625 23.890625 \nQ 32.328125 33.6875 34.8125 36.53125 \nQ 39.546875 41.84375 41.421875 45.53125 \nQ 43.3125 49.21875 43.3125 52.78125 \nQ 43.3125 58.59375 39.234375 62.25 \nQ 35.15625 65.921875 28.609375 65.921875 \nQ 23.96875 65.921875 18.8125 64.3125 \nQ 13.671875 62.703125 7.8125 59.421875 \nL 7.8125 69.390625 \nQ 13.765625 71.78125 18.9375 73 \nQ 24.125 74.21875 28.421875 74.21875 \nQ 39.75 74.21875 46.484375 68.546875 \nQ 53.21875 62.890625 53.21875 53.421875 \nQ 53.21875 48.921875 51.53125 44.890625 \nQ 49.859375 40.875 45.40625 35.40625 \nQ 44.1875 33.984375 37.640625 27.21875 \nQ 31.109375 20.453125 19.1875 8.296875 \nz\n\" id=\"DejaVuSans-50\"/>\n      </defs>\n      <g transform=\"translate(305.408721 240.398236)scale(0.1 -0.1)\">\n       <use xlink:href=\"#DejaVuSans-8722\"/>\n       <use x=\"83.789062\" xlink:href=\"#DejaVuSans-50\"/>\n      </g>\n     </g>\n    </g>\n   </g>\n   <g id=\"matplotlib.axis_2\">\n    <g id=\"ytick_1\">\n     <g id=\"line2d_6\">\n      <defs>\n       <path d=\"M 0 0 \nL -3.5 0 \n\" id=\"me5447879cd\" style=\"stroke:#000000;stroke-width:0.8;\"/>\n      </defs>\n      <g>\n       <use style=\"stroke:#000000;stroke-width:0.8;\" x=\"35.304688\" xlink:href=\"#me5447879cd\" y=\"224.306512\"/>\n      </g>\n     </g>\n     <g id=\"text_6\">\n      <!-- −10 -->\n      <g transform=\"translate(7.2 228.10573)scale(0.1 -0.1)\">\n       <use xlink:href=\"#DejaVuSans-8722\"/>\n       <use x=\"83.789062\" xlink:href=\"#DejaVuSans-49\"/>\n       <use x=\"147.412109\" xlink:href=\"#DejaVuSans-48\"/>\n      </g>\n     </g>\n    </g>\n    <g id=\"ytick_2\">\n     <g id=\"line2d_7\">\n      <g>\n       <use style=\"stroke:#000000;stroke-width:0.8;\" x=\"35.304688\" xlink:href=\"#me5447879cd\" y=\"197.6431\"/>\n      </g>\n     </g>\n     <g id=\"text_7\">\n      <!-- −8 -->\n      <g transform=\"translate(13.5625 201.442319)scale(0.1 -0.1)\">\n       <use xlink:href=\"#DejaVuSans-8722\"/>\n       <use x=\"83.789062\" xlink:href=\"#DejaVuSans-56\"/>\n      </g>\n     </g>\n    </g>\n    <g id=\"ytick_3\">\n     <g id=\"line2d_8\">\n      <g>\n       <use style=\"stroke:#000000;stroke-width:0.8;\" x=\"35.304688\" xlink:href=\"#me5447879cd\" y=\"170.979688\"/>\n      </g>\n     </g>\n     <g id=\"text_8\">\n      <!-- −6 -->\n      <g transform=\"translate(13.5625 174.778907)scale(0.1 -0.1)\">\n       <use xlink:href=\"#DejaVuSans-8722\"/>\n       <use x=\"83.789062\" xlink:href=\"#DejaVuSans-54\"/>\n      </g>\n     </g>\n    </g>\n    <g id=\"ytick_4\">\n     <g id=\"line2d_9\">\n      <g>\n       <use style=\"stroke:#000000;stroke-width:0.8;\" x=\"35.304688\" xlink:href=\"#me5447879cd\" y=\"144.316277\"/>\n      </g>\n     </g>\n     <g id=\"text_9\">\n      <!-- −4 -->\n      <g transform=\"translate(13.5625 148.115496)scale(0.1 -0.1)\">\n       <use xlink:href=\"#DejaVuSans-8722\"/>\n       <use x=\"83.789062\" xlink:href=\"#DejaVuSans-52\"/>\n      </g>\n     </g>\n    </g>\n    <g id=\"ytick_5\">\n     <g id=\"line2d_10\">\n      <g>\n       <use style=\"stroke:#000000;stroke-width:0.8;\" x=\"35.304688\" xlink:href=\"#me5447879cd\" y=\"117.652865\"/>\n      </g>\n     </g>\n     <g id=\"text_10\">\n      <!-- −2 -->\n      <g transform=\"translate(13.5625 121.452084)scale(0.1 -0.1)\">\n       <use xlink:href=\"#DejaVuSans-8722\"/>\n       <use x=\"83.789062\" xlink:href=\"#DejaVuSans-50\"/>\n      </g>\n     </g>\n    </g>\n    <g id=\"ytick_6\">\n     <g id=\"line2d_11\">\n      <g>\n       <use style=\"stroke:#000000;stroke-width:0.8;\" x=\"35.304688\" xlink:href=\"#me5447879cd\" y=\"90.989454\"/>\n      </g>\n     </g>\n     <g id=\"text_11\">\n      <!-- 0 -->\n      <g transform=\"translate(21.942188 94.788672)scale(0.1 -0.1)\">\n       <use xlink:href=\"#DejaVuSans-48\"/>\n      </g>\n     </g>\n    </g>\n    <g id=\"ytick_7\">\n     <g id=\"line2d_12\">\n      <g>\n       <use style=\"stroke:#000000;stroke-width:0.8;\" x=\"35.304688\" xlink:href=\"#me5447879cd\" y=\"64.326042\"/>\n      </g>\n     </g>\n     <g id=\"text_12\">\n      <!-- 2 -->\n      <g transform=\"translate(21.942188 68.125261)scale(0.1 -0.1)\">\n       <use xlink:href=\"#DejaVuSans-50\"/>\n      </g>\n     </g>\n    </g>\n    <g id=\"ytick_8\">\n     <g id=\"line2d_13\">\n      <g>\n       <use style=\"stroke:#000000;stroke-width:0.8;\" x=\"35.304688\" xlink:href=\"#me5447879cd\" y=\"37.66263\"/>\n      </g>\n     </g>\n     <g id=\"text_13\">\n      <!-- 4 -->\n      <g transform=\"translate(21.942188 41.461849)scale(0.1 -0.1)\">\n       <use xlink:href=\"#DejaVuSans-52\"/>\n      </g>\n     </g>\n    </g>\n    <g id=\"ytick_9\">\n     <g id=\"line2d_14\">\n      <g>\n       <use style=\"stroke:#000000;stroke-width:0.8;\" x=\"35.304688\" xlink:href=\"#me5447879cd\" y=\"10.999219\"/>\n      </g>\n     </g>\n     <g id=\"text_14\">\n      <!-- 6 -->\n      <g transform=\"translate(21.942188 14.798437)scale(0.1 -0.1)\">\n       <use xlink:href=\"#DejaVuSans-54\"/>\n      </g>\n     </g>\n    </g>\n   </g>\n   <g id=\"patch_3\">\n    <path d=\"M 35.304688 225.799799 \nL 35.304688 8.359799 \n\" style=\"fill:none;stroke:#000000;stroke-linecap:square;stroke-linejoin:miter;stroke-width:0.8;\"/>\n   </g>\n   <g id=\"patch_4\">\n    <path d=\"M 370.104688 225.799799 \nL 370.104688 8.359799 \n\" style=\"fill:none;stroke:#000000;stroke-linecap:square;stroke-linejoin:miter;stroke-width:0.8;\"/>\n   </g>\n   <g id=\"patch_5\">\n    <path d=\"M 35.304688 225.799799 \nL 370.104687 225.799799 \n\" style=\"fill:none;stroke:#000000;stroke-linecap:square;stroke-linejoin:miter;stroke-width:0.8;\"/>\n   </g>\n   <g id=\"patch_6\">\n    <path d=\"M 35.304688 8.359799 \nL 370.104687 8.359799 \n\" style=\"fill:none;stroke:#000000;stroke-linecap:square;stroke-linejoin:miter;stroke-width:0.8;\"/>\n   </g>\n  </g>\n </g>\n <defs>\n  <clipPath id=\"pc63c1c303a\">\n   <rect height=\"217.44\" width=\"334.8\" x=\"35.304688\" y=\"8.359799\"/>\n  </clipPath>\n </defs>\n</svg>\n",
      "image/png": "[encoded data removed]"
     },
     "metadata": {
      "needs_background": "light"
     }
    }
   ],
   "source": [
    "plt.scatter(features[:,0], features[:,1], c=target)\n",
    "plt.show()"
   ]
  },
  {
   "cell_type": "code",
   "execution_count": 69,
   "metadata": {},
   "outputs": [],
   "source": [
    "import pandas as pd"
   ]
  },
  {
   "cell_type": "markdown",
   "metadata": {},
   "source": [
    "while importing json put argument orient='columns' in read_json command"
   ]
  },
  {
   "cell_type": "markdown",
   "metadata": {},
   "source": [
    "json_normalize is used for semi-structured json data"
   ]
  },
  {
   "cell_type": "code",
   "execution_count": 70,
   "metadata": {},
   "outputs": [],
   "source": [
    "import pandas as pd\n",
    "from sqlalchemy import create_engine"
   ]
  },
  {
   "cell_type": "code",
   "execution_count": 71,
   "metadata": {},
   "outputs": [],
   "source": [
    "database_connection = create_engine('sqlite:///sample.db')"
   ]
  },
  {
   "cell_type": "code",
   "execution_count": 72,
   "metadata": {},
   "outputs": [
    {
     "output_type": "error",
     "ename": "OperationalError",
     "evalue": "(sqlite3.OperationalError) no such table: data\n[SQL: SELECT * from data]\n(Background on this error at: http://sqlalche.me/e/e3q8)",
     "traceback": [
      "\u001b[0;31m---------------------------------------------------------------------------\u001b[0m",
      "\u001b[0;31mOperationalError\u001b[0m                          Traceback (most recent call last)",
      "\u001b[0;32m/Library/Frameworks/Python.framework/Versions/3.7/lib/python3.7/site-packages/sqlalchemy/engine/base.py\u001b[0m in \u001b[0;36m_execute_context\u001b[0;34m(self, dialect, constructor, statement, parameters, *args)\u001b[0m\n\u001b[1;32m   1283\u001b[0m                     self.dialect.do_execute(\n\u001b[0;32m-> 1284\u001b[0;31m                         \u001b[0mcursor\u001b[0m\u001b[0;34m,\u001b[0m \u001b[0mstatement\u001b[0m\u001b[0;34m,\u001b[0m \u001b[0mparameters\u001b[0m\u001b[0;34m,\u001b[0m \u001b[0mcontext\u001b[0m\u001b[0;34m\u001b[0m\u001b[0;34m\u001b[0m\u001b[0m\n\u001b[0m\u001b[1;32m   1285\u001b[0m                     )\n",
      "\u001b[0;32m/Library/Frameworks/Python.framework/Versions/3.7/lib/python3.7/site-packages/sqlalchemy/engine/default.py\u001b[0m in \u001b[0;36mdo_execute\u001b[0;34m(self, cursor, statement, parameters, context)\u001b[0m\n\u001b[1;32m    589\u001b[0m     \u001b[0;32mdef\u001b[0m \u001b[0mdo_execute\u001b[0m\u001b[0;34m(\u001b[0m\u001b[0mself\u001b[0m\u001b[0;34m,\u001b[0m \u001b[0mcursor\u001b[0m\u001b[0;34m,\u001b[0m \u001b[0mstatement\u001b[0m\u001b[0;34m,\u001b[0m \u001b[0mparameters\u001b[0m\u001b[0;34m,\u001b[0m \u001b[0mcontext\u001b[0m\u001b[0;34m=\u001b[0m\u001b[0;32mNone\u001b[0m\u001b[0;34m)\u001b[0m\u001b[0;34m:\u001b[0m\u001b[0;34m\u001b[0m\u001b[0;34m\u001b[0m\u001b[0m\n\u001b[0;32m--> 590\u001b[0;31m         \u001b[0mcursor\u001b[0m\u001b[0;34m.\u001b[0m\u001b[0mexecute\u001b[0m\u001b[0;34m(\u001b[0m\u001b[0mstatement\u001b[0m\u001b[0;34m,\u001b[0m \u001b[0mparameters\u001b[0m\u001b[0;34m)\u001b[0m\u001b[0;34m\u001b[0m\u001b[0;34m\u001b[0m\u001b[0m\n\u001b[0m\u001b[1;32m    591\u001b[0m \u001b[0;34m\u001b[0m\u001b[0m\n",
      "\u001b[0;31mOperationalError\u001b[0m: no such table: data",
      "\nThe above exception was the direct cause of the following exception:\n",
      "\u001b[0;31mOperationalError\u001b[0m                          Traceback (most recent call last)",
      "\u001b[0;32m<ipython-input-72-ca96ba2c0535>\u001b[0m in \u001b[0;36m<module>\u001b[0;34m\u001b[0m\n\u001b[0;32m----> 1\u001b[0;31m \u001b[0mdataframe\u001b[0m \u001b[0;34m=\u001b[0m \u001b[0mpd\u001b[0m\u001b[0;34m.\u001b[0m\u001b[0mread_sql_query\u001b[0m\u001b[0;34m(\u001b[0m\u001b[0;34m'SELECT * from data'\u001b[0m\u001b[0;34m,\u001b[0m \u001b[0mdatabase_connection\u001b[0m\u001b[0;34m)\u001b[0m\u001b[0;34m\u001b[0m\u001b[0;34m\u001b[0m\u001b[0m\n\u001b[0m",
      "\u001b[0;32m/Library/Frameworks/Python.framework/Versions/3.7/lib/python3.7/site-packages/pandas/io/sql.py\u001b[0m in \u001b[0;36mread_sql_query\u001b[0;34m(sql, con, index_col, coerce_float, params, parse_dates, chunksize)\u001b[0m\n\u001b[1;32m    330\u001b[0m         \u001b[0mcoerce_float\u001b[0m\u001b[0;34m=\u001b[0m\u001b[0mcoerce_float\u001b[0m\u001b[0;34m,\u001b[0m\u001b[0;34m\u001b[0m\u001b[0;34m\u001b[0m\u001b[0m\n\u001b[1;32m    331\u001b[0m         \u001b[0mparse_dates\u001b[0m\u001b[0;34m=\u001b[0m\u001b[0mparse_dates\u001b[0m\u001b[0;34m,\u001b[0m\u001b[0;34m\u001b[0m\u001b[0;34m\u001b[0m\u001b[0m\n\u001b[0;32m--> 332\u001b[0;31m         \u001b[0mchunksize\u001b[0m\u001b[0;34m=\u001b[0m\u001b[0mchunksize\u001b[0m\u001b[0;34m,\u001b[0m\u001b[0;34m\u001b[0m\u001b[0;34m\u001b[0m\u001b[0m\n\u001b[0m\u001b[1;32m    333\u001b[0m     )\n\u001b[1;32m    334\u001b[0m \u001b[0;34m\u001b[0m\u001b[0m\n",
      "\u001b[0;32m/Library/Frameworks/Python.framework/Versions/3.7/lib/python3.7/site-packages/pandas/io/sql.py\u001b[0m in \u001b[0;36mread_query\u001b[0;34m(self, sql, index_col, coerce_float, parse_dates, params, chunksize)\u001b[0m\n\u001b[1;32m   1216\u001b[0m         \u001b[0margs\u001b[0m \u001b[0;34m=\u001b[0m \u001b[0m_convert_params\u001b[0m\u001b[0;34m(\u001b[0m\u001b[0msql\u001b[0m\u001b[0;34m,\u001b[0m \u001b[0mparams\u001b[0m\u001b[0;34m)\u001b[0m\u001b[0;34m\u001b[0m\u001b[0;34m\u001b[0m\u001b[0m\n\u001b[1;32m   1217\u001b[0m \u001b[0;34m\u001b[0m\u001b[0m\n\u001b[0;32m-> 1218\u001b[0;31m         \u001b[0mresult\u001b[0m \u001b[0;34m=\u001b[0m \u001b[0mself\u001b[0m\u001b[0;34m.\u001b[0m\u001b[0mexecute\u001b[0m\u001b[0;34m(\u001b[0m\u001b[0;34m*\u001b[0m\u001b[0margs\u001b[0m\u001b[0;34m)\u001b[0m\u001b[0;34m\u001b[0m\u001b[0;34m\u001b[0m\u001b[0m\n\u001b[0m\u001b[1;32m   1219\u001b[0m         \u001b[0mcolumns\u001b[0m \u001b[0;34m=\u001b[0m \u001b[0mresult\u001b[0m\u001b[0;34m.\u001b[0m\u001b[0mkeys\u001b[0m\u001b[0;34m(\u001b[0m\u001b[0;34m)\u001b[0m\u001b[0;34m\u001b[0m\u001b[0;34m\u001b[0m\u001b[0m\n\u001b[1;32m   1220\u001b[0m \u001b[0;34m\u001b[0m\u001b[0m\n",
      "\u001b[0;32m/Library/Frameworks/Python.framework/Versions/3.7/lib/python3.7/site-packages/pandas/io/sql.py\u001b[0m in \u001b[0;36mexecute\u001b[0;34m(self, *args, **kwargs)\u001b[0m\n\u001b[1;32m   1085\u001b[0m     \u001b[0;32mdef\u001b[0m \u001b[0mexecute\u001b[0m\u001b[0;34m(\u001b[0m\u001b[0mself\u001b[0m\u001b[0;34m,\u001b[0m \u001b[0;34m*\u001b[0m\u001b[0margs\u001b[0m\u001b[0;34m,\u001b[0m \u001b[0;34m**\u001b[0m\u001b[0mkwargs\u001b[0m\u001b[0;34m)\u001b[0m\u001b[0;34m:\u001b[0m\u001b[0;34m\u001b[0m\u001b[0;34m\u001b[0m\u001b[0m\n\u001b[1;32m   1086\u001b[0m         \u001b[0;34m\"\"\"Simple passthrough to SQLAlchemy connectable\"\"\"\u001b[0m\u001b[0;34m\u001b[0m\u001b[0;34m\u001b[0m\u001b[0m\n\u001b[0;32m-> 1087\u001b[0;31m         \u001b[0;32mreturn\u001b[0m \u001b[0mself\u001b[0m\u001b[0;34m.\u001b[0m\u001b[0mconnectable\u001b[0m\u001b[0;34m.\u001b[0m\u001b[0mexecute\u001b[0m\u001b[0;34m(\u001b[0m\u001b[0;34m*\u001b[0m\u001b[0margs\u001b[0m\u001b[0;34m,\u001b[0m \u001b[0;34m**\u001b[0m\u001b[0mkwargs\u001b[0m\u001b[0;34m)\u001b[0m\u001b[0;34m\u001b[0m\u001b[0;34m\u001b[0m\u001b[0m\n\u001b[0m\u001b[1;32m   1088\u001b[0m \u001b[0;34m\u001b[0m\u001b[0m\n\u001b[1;32m   1089\u001b[0m     def read_table(\n",
      "\u001b[0;32m/Library/Frameworks/Python.framework/Versions/3.7/lib/python3.7/site-packages/sqlalchemy/engine/base.py\u001b[0m in \u001b[0;36mexecute\u001b[0;34m(self, statement, *multiparams, **params)\u001b[0m\n\u001b[1;32m   2242\u001b[0m \u001b[0;34m\u001b[0m\u001b[0m\n\u001b[1;32m   2243\u001b[0m         \u001b[0mconnection\u001b[0m \u001b[0;34m=\u001b[0m \u001b[0mself\u001b[0m\u001b[0;34m.\u001b[0m\u001b[0m_contextual_connect\u001b[0m\u001b[0;34m(\u001b[0m\u001b[0mclose_with_result\u001b[0m\u001b[0;34m=\u001b[0m\u001b[0;32mTrue\u001b[0m\u001b[0;34m)\u001b[0m\u001b[0;34m\u001b[0m\u001b[0;34m\u001b[0m\u001b[0m\n\u001b[0;32m-> 2244\u001b[0;31m         \u001b[0;32mreturn\u001b[0m \u001b[0mconnection\u001b[0m\u001b[0;34m.\u001b[0m\u001b[0mexecute\u001b[0m\u001b[0;34m(\u001b[0m\u001b[0mstatement\u001b[0m\u001b[0;34m,\u001b[0m \u001b[0;34m*\u001b[0m\u001b[0mmultiparams\u001b[0m\u001b[0;34m,\u001b[0m \u001b[0;34m**\u001b[0m\u001b[0mparams\u001b[0m\u001b[0;34m)\u001b[0m\u001b[0;34m\u001b[0m\u001b[0;34m\u001b[0m\u001b[0m\n\u001b[0m\u001b[1;32m   2245\u001b[0m \u001b[0;34m\u001b[0m\u001b[0m\n\u001b[1;32m   2246\u001b[0m     \u001b[0;32mdef\u001b[0m \u001b[0mscalar\u001b[0m\u001b[0;34m(\u001b[0m\u001b[0mself\u001b[0m\u001b[0;34m,\u001b[0m \u001b[0mstatement\u001b[0m\u001b[0;34m,\u001b[0m \u001b[0;34m*\u001b[0m\u001b[0mmultiparams\u001b[0m\u001b[0;34m,\u001b[0m \u001b[0;34m**\u001b[0m\u001b[0mparams\u001b[0m\u001b[0;34m)\u001b[0m\u001b[0;34m:\u001b[0m\u001b[0;34m\u001b[0m\u001b[0;34m\u001b[0m\u001b[0m\n",
      "\u001b[0;32m/Library/Frameworks/Python.framework/Versions/3.7/lib/python3.7/site-packages/sqlalchemy/engine/base.py\u001b[0m in \u001b[0;36mexecute\u001b[0;34m(self, object_, *multiparams, **params)\u001b[0m\n\u001b[1;32m   1010\u001b[0m         \"\"\"\n\u001b[1;32m   1011\u001b[0m         \u001b[0;32mif\u001b[0m \u001b[0misinstance\u001b[0m\u001b[0;34m(\u001b[0m\u001b[0mobject_\u001b[0m\u001b[0;34m,\u001b[0m \u001b[0mutil\u001b[0m\u001b[0;34m.\u001b[0m\u001b[0mstring_types\u001b[0m\u001b[0;34m[\u001b[0m\u001b[0;36m0\u001b[0m\u001b[0;34m]\u001b[0m\u001b[0;34m)\u001b[0m\u001b[0;34m:\u001b[0m\u001b[0;34m\u001b[0m\u001b[0;34m\u001b[0m\u001b[0m\n\u001b[0;32m-> 1012\u001b[0;31m             \u001b[0;32mreturn\u001b[0m \u001b[0mself\u001b[0m\u001b[0;34m.\u001b[0m\u001b[0m_execute_text\u001b[0m\u001b[0;34m(\u001b[0m\u001b[0mobject_\u001b[0m\u001b[0;34m,\u001b[0m \u001b[0mmultiparams\u001b[0m\u001b[0;34m,\u001b[0m \u001b[0mparams\u001b[0m\u001b[0;34m)\u001b[0m\u001b[0;34m\u001b[0m\u001b[0;34m\u001b[0m\u001b[0m\n\u001b[0m\u001b[1;32m   1013\u001b[0m         \u001b[0;32mtry\u001b[0m\u001b[0;34m:\u001b[0m\u001b[0;34m\u001b[0m\u001b[0;34m\u001b[0m\u001b[0m\n\u001b[1;32m   1014\u001b[0m             \u001b[0mmeth\u001b[0m \u001b[0;34m=\u001b[0m \u001b[0mobject_\u001b[0m\u001b[0;34m.\u001b[0m\u001b[0m_execute_on_connection\u001b[0m\u001b[0;34m\u001b[0m\u001b[0;34m\u001b[0m\u001b[0m\n",
      "\u001b[0;32m/Library/Frameworks/Python.framework/Versions/3.7/lib/python3.7/site-packages/sqlalchemy/engine/base.py\u001b[0m in \u001b[0;36m_execute_text\u001b[0;34m(self, statement, multiparams, params)\u001b[0m\n\u001b[1;32m   1185\u001b[0m             \u001b[0mparameters\u001b[0m\u001b[0;34m,\u001b[0m\u001b[0;34m\u001b[0m\u001b[0;34m\u001b[0m\u001b[0m\n\u001b[1;32m   1186\u001b[0m             \u001b[0mstatement\u001b[0m\u001b[0;34m,\u001b[0m\u001b[0;34m\u001b[0m\u001b[0;34m\u001b[0m\u001b[0m\n\u001b[0;32m-> 1187\u001b[0;31m             \u001b[0mparameters\u001b[0m\u001b[0;34m,\u001b[0m\u001b[0;34m\u001b[0m\u001b[0;34m\u001b[0m\u001b[0m\n\u001b[0m\u001b[1;32m   1188\u001b[0m         )\n\u001b[1;32m   1189\u001b[0m         \u001b[0;32mif\u001b[0m \u001b[0mself\u001b[0m\u001b[0;34m.\u001b[0m\u001b[0m_has_events\u001b[0m \u001b[0;32mor\u001b[0m \u001b[0mself\u001b[0m\u001b[0;34m.\u001b[0m\u001b[0mengine\u001b[0m\u001b[0;34m.\u001b[0m\u001b[0m_has_events\u001b[0m\u001b[0;34m:\u001b[0m\u001b[0;34m\u001b[0m\u001b[0;34m\u001b[0m\u001b[0m\n",
      "\u001b[0;32m/Library/Frameworks/Python.framework/Versions/3.7/lib/python3.7/site-packages/sqlalchemy/engine/base.py\u001b[0m in \u001b[0;36m_execute_context\u001b[0;34m(self, dialect, constructor, statement, parameters, *args)\u001b[0m\n\u001b[1;32m   1322\u001b[0m         \u001b[0;32mexcept\u001b[0m \u001b[0mBaseException\u001b[0m \u001b[0;32mas\u001b[0m \u001b[0me\u001b[0m\u001b[0;34m:\u001b[0m\u001b[0;34m\u001b[0m\u001b[0;34m\u001b[0m\u001b[0m\n\u001b[1;32m   1323\u001b[0m             self._handle_dbapi_exception(\n\u001b[0;32m-> 1324\u001b[0;31m                 \u001b[0me\u001b[0m\u001b[0;34m,\u001b[0m \u001b[0mstatement\u001b[0m\u001b[0;34m,\u001b[0m \u001b[0mparameters\u001b[0m\u001b[0;34m,\u001b[0m \u001b[0mcursor\u001b[0m\u001b[0;34m,\u001b[0m \u001b[0mcontext\u001b[0m\u001b[0;34m\u001b[0m\u001b[0;34m\u001b[0m\u001b[0m\n\u001b[0m\u001b[1;32m   1325\u001b[0m             )\n\u001b[1;32m   1326\u001b[0m \u001b[0;34m\u001b[0m\u001b[0m\n",
      "\u001b[0;32m/Library/Frameworks/Python.framework/Versions/3.7/lib/python3.7/site-packages/sqlalchemy/engine/base.py\u001b[0m in \u001b[0;36m_handle_dbapi_exception\u001b[0;34m(self, e, statement, parameters, cursor, context)\u001b[0m\n\u001b[1;32m   1516\u001b[0m             \u001b[0;32melif\u001b[0m \u001b[0mshould_wrap\u001b[0m\u001b[0;34m:\u001b[0m\u001b[0;34m\u001b[0m\u001b[0;34m\u001b[0m\u001b[0m\n\u001b[1;32m   1517\u001b[0m                 util.raise_(\n\u001b[0;32m-> 1518\u001b[0;31m                     \u001b[0msqlalchemy_exception\u001b[0m\u001b[0;34m,\u001b[0m \u001b[0mwith_traceback\u001b[0m\u001b[0;34m=\u001b[0m\u001b[0mexc_info\u001b[0m\u001b[0;34m[\u001b[0m\u001b[0;36m2\u001b[0m\u001b[0;34m]\u001b[0m\u001b[0;34m,\u001b[0m \u001b[0mfrom_\u001b[0m\u001b[0;34m=\u001b[0m\u001b[0me\u001b[0m\u001b[0;34m\u001b[0m\u001b[0;34m\u001b[0m\u001b[0m\n\u001b[0m\u001b[1;32m   1519\u001b[0m                 )\n\u001b[1;32m   1520\u001b[0m             \u001b[0;32melse\u001b[0m\u001b[0;34m:\u001b[0m\u001b[0;34m\u001b[0m\u001b[0;34m\u001b[0m\u001b[0m\n",
      "\u001b[0;32m/Library/Frameworks/Python.framework/Versions/3.7/lib/python3.7/site-packages/sqlalchemy/util/compat.py\u001b[0m in \u001b[0;36mraise_\u001b[0;34m(***failed resolving arguments***)\u001b[0m\n\u001b[1;32m    176\u001b[0m \u001b[0;34m\u001b[0m\u001b[0m\n\u001b[1;32m    177\u001b[0m         \u001b[0;32mtry\u001b[0m\u001b[0;34m:\u001b[0m\u001b[0;34m\u001b[0m\u001b[0;34m\u001b[0m\u001b[0m\n\u001b[0;32m--> 178\u001b[0;31m             \u001b[0;32mraise\u001b[0m \u001b[0mexception\u001b[0m\u001b[0;34m\u001b[0m\u001b[0;34m\u001b[0m\u001b[0m\n\u001b[0m\u001b[1;32m    179\u001b[0m         \u001b[0;32mfinally\u001b[0m\u001b[0;34m:\u001b[0m\u001b[0;34m\u001b[0m\u001b[0;34m\u001b[0m\u001b[0m\n\u001b[1;32m    180\u001b[0m             \u001b[0;31m# credit to\u001b[0m\u001b[0;34m\u001b[0m\u001b[0;34m\u001b[0m\u001b[0;34m\u001b[0m\u001b[0m\n",
      "\u001b[0;32m/Library/Frameworks/Python.framework/Versions/3.7/lib/python3.7/site-packages/sqlalchemy/engine/base.py\u001b[0m in \u001b[0;36m_execute_context\u001b[0;34m(self, dialect, constructor, statement, parameters, *args)\u001b[0m\n\u001b[1;32m   1282\u001b[0m                 \u001b[0;32mif\u001b[0m \u001b[0;32mnot\u001b[0m \u001b[0mevt_handled\u001b[0m\u001b[0;34m:\u001b[0m\u001b[0;34m\u001b[0m\u001b[0;34m\u001b[0m\u001b[0m\n\u001b[1;32m   1283\u001b[0m                     self.dialect.do_execute(\n\u001b[0;32m-> 1284\u001b[0;31m                         \u001b[0mcursor\u001b[0m\u001b[0;34m,\u001b[0m \u001b[0mstatement\u001b[0m\u001b[0;34m,\u001b[0m \u001b[0mparameters\u001b[0m\u001b[0;34m,\u001b[0m \u001b[0mcontext\u001b[0m\u001b[0;34m\u001b[0m\u001b[0;34m\u001b[0m\u001b[0m\n\u001b[0m\u001b[1;32m   1285\u001b[0m                     )\n\u001b[1;32m   1286\u001b[0m \u001b[0;34m\u001b[0m\u001b[0m\n",
      "\u001b[0;32m/Library/Frameworks/Python.framework/Versions/3.7/lib/python3.7/site-packages/sqlalchemy/engine/default.py\u001b[0m in \u001b[0;36mdo_execute\u001b[0;34m(self, cursor, statement, parameters, context)\u001b[0m\n\u001b[1;32m    588\u001b[0m \u001b[0;34m\u001b[0m\u001b[0m\n\u001b[1;32m    589\u001b[0m     \u001b[0;32mdef\u001b[0m \u001b[0mdo_execute\u001b[0m\u001b[0;34m(\u001b[0m\u001b[0mself\u001b[0m\u001b[0;34m,\u001b[0m \u001b[0mcursor\u001b[0m\u001b[0;34m,\u001b[0m \u001b[0mstatement\u001b[0m\u001b[0;34m,\u001b[0m \u001b[0mparameters\u001b[0m\u001b[0;34m,\u001b[0m \u001b[0mcontext\u001b[0m\u001b[0;34m=\u001b[0m\u001b[0;32mNone\u001b[0m\u001b[0;34m)\u001b[0m\u001b[0;34m:\u001b[0m\u001b[0;34m\u001b[0m\u001b[0;34m\u001b[0m\u001b[0m\n\u001b[0;32m--> 590\u001b[0;31m         \u001b[0mcursor\u001b[0m\u001b[0;34m.\u001b[0m\u001b[0mexecute\u001b[0m\u001b[0;34m(\u001b[0m\u001b[0mstatement\u001b[0m\u001b[0;34m,\u001b[0m \u001b[0mparameters\u001b[0m\u001b[0;34m)\u001b[0m\u001b[0;34m\u001b[0m\u001b[0;34m\u001b[0m\u001b[0m\n\u001b[0m\u001b[1;32m    591\u001b[0m \u001b[0;34m\u001b[0m\u001b[0m\n\u001b[1;32m    592\u001b[0m     \u001b[0;32mdef\u001b[0m \u001b[0mdo_execute_no_params\u001b[0m\u001b[0;34m(\u001b[0m\u001b[0mself\u001b[0m\u001b[0;34m,\u001b[0m \u001b[0mcursor\u001b[0m\u001b[0;34m,\u001b[0m \u001b[0mstatement\u001b[0m\u001b[0;34m,\u001b[0m \u001b[0mcontext\u001b[0m\u001b[0;34m=\u001b[0m\u001b[0;32mNone\u001b[0m\u001b[0;34m)\u001b[0m\u001b[0;34m:\u001b[0m\u001b[0;34m\u001b[0m\u001b[0;34m\u001b[0m\u001b[0m\n",
      "\u001b[0;31mOperationalError\u001b[0m: (sqlite3.OperationalError) no such table: data\n[SQL: SELECT * from data]\n(Background on this error at: http://sqlalche.me/e/e3q8)"
     ]
    }
   ],
   "source": [
    "dataframe = pd.read_sql_query('SELECT * from data', database_connection)"
   ]
  },
  {
   "cell_type": "code",
   "execution_count": 73,
   "metadata": {},
   "outputs": [],
   "source": [
    "# creates an empty dataframe\n",
    "df = pd.DataFrame()"
   ]
  },
  {
   "cell_type": "code",
   "execution_count": 78,
   "metadata": {},
   "outputs": [],
   "source": [
    "new_person = pd.Series(['Molly Mooney', 40, True], index=['Name','Age','Driver'])\n",
    "new_person_1 = pd.Series(['Mahesh Mooney', 25, False], index=['Name','Age','Driver'])"
   ]
  },
  {
   "cell_type": "code",
   "execution_count": 82,
   "metadata": {},
   "outputs": [],
   "source": [
    "df = df.append(new_person_1, ignore_index=True)"
   ]
  },
  {
   "cell_type": "code",
   "execution_count": 83,
   "metadata": {},
   "outputs": [
    {
     "output_type": "execute_result",
     "data": {
      "text/plain": "    Age  Driver           Name\n0  25.0     0.0  Mahesh Mooney",
      "text/html": "<div>\n<style scoped>\n    .dataframe tbody tr th:only-of-type {\n        vertical-align: middle;\n    }\n\n    .dataframe tbody tr th {\n        vertical-align: top;\n    }\n\n    .dataframe thead th {\n        text-align: right;\n    }\n</style>\n<table border=\"1\" class=\"dataframe\">\n  <thead>\n    <tr style=\"text-align: right;\">\n      <th></th>\n      <th>Age</th>\n      <th>Driver</th>\n      <th>Name</th>\n    </tr>\n  </thead>\n  <tbody>\n    <tr>\n      <th>0</th>\n      <td>25.0</td>\n      <td>0.0</td>\n      <td>Mahesh Mooney</td>\n    </tr>\n  </tbody>\n</table>\n</div>"
     },
     "metadata": {},
     "execution_count": 83
    }
   ],
   "source": [
    "df"
   ]
  },
  {
   "cell_type": "code",
   "execution_count": 87,
   "metadata": {},
   "outputs": [
    {
     "output_type": "execute_result",
     "data": {
      "text/plain": "0    25.0\nName: Age, dtype: float64"
     },
     "metadata": {},
     "execution_count": 87
    }
   ],
   "source": [
    "df['Age'].replace([\"25\", \"26\"])"
   ]
  },
  {
   "cell_type": "markdown",
   "metadata": {},
   "source": [
    "Oftentimes a dataset uses a specific value to denote a missing observation, such as NONE, -999, or .. pandas’ read_csv includes a parameter allowing us to specify the values used to indicate missing values:\n",
    "    \n"
   ]
  },
  {
   "cell_type": "code",
   "execution_count": 88,
   "metadata": {},
   "outputs": [
    {
     "output_type": "error",
     "ename": "NameError",
     "evalue": "name 'url' is not defined",
     "traceback": [
      "\u001b[0;31m---------------------------------------------------------------------------\u001b[0m",
      "\u001b[0;31mNameError\u001b[0m                                 Traceback (most recent call last)",
      "\u001b[0;32m<ipython-input-88-4ec7638bdebd>\u001b[0m in \u001b[0;36m<module>\u001b[0;34m\u001b[0m\n\u001b[0;32m----> 1\u001b[0;31m \u001b[0mdataframe\u001b[0m \u001b[0;34m=\u001b[0m \u001b[0mpd\u001b[0m\u001b[0;34m.\u001b[0m\u001b[0mread_csv\u001b[0m\u001b[0;34m(\u001b[0m\u001b[0murl\u001b[0m\u001b[0;34m,\u001b[0m \u001b[0mna_values\u001b[0m\u001b[0;34m=\u001b[0m\u001b[0;34m[\u001b[0m\u001b[0mnp\u001b[0m\u001b[0;34m.\u001b[0m\u001b[0mnan\u001b[0m\u001b[0;34m,\u001b[0m \u001b[0;34m'NONE'\u001b[0m\u001b[0;34m,\u001b[0m \u001b[0;34m-\u001b[0m\u001b[0;36m999\u001b[0m\u001b[0;34m]\u001b[0m\u001b[0;34m)\u001b[0m\u001b[0;34m\u001b[0m\u001b[0;34m\u001b[0m\u001b[0m\n\u001b[0m",
      "\u001b[0;31mNameError\u001b[0m: name 'url' is not defined"
     ]
    }
   ],
   "source": [
    "# Load data, set missing values\n",
    "dataframe = pd.read_csv(url, na_values=[np.nan, 'NONE', -999])"
   ]
  },
  {
   "cell_type": "code",
   "execution_count": 89,
   "metadata": {},
   "outputs": [],
   "source": [
    "# dropping rows\n",
    "dataframe[dataframe.index != 0].head(2)"
   ]
  },
  {
   "cell_type": "markdown",
   "metadata": {},
   "source": [
    "Grouping rows by time"
   ]
  },
  {
   "cell_type": "code",
   "execution_count": 91,
   "metadata": {},
   "outputs": [],
   "source": [
    "time_index = pd.date_range('06/06/2017', periods=100000, freq='30S')"
   ]
  },
  {
   "cell_type": "code",
   "execution_count": 92,
   "metadata": {},
   "outputs": [],
   "source": [
    "dataframe = pd.DataFrame(index=time_index)"
   ]
  },
  {
   "cell_type": "code",
   "execution_count": 93,
   "metadata": {},
   "outputs": [],
   "source": [
    "dataframe['Sale Amount'] = np.random.randint(1, 10, 100000)"
   ]
  },
  {
   "cell_type": "code",
   "execution_count": 94,
   "metadata": {},
   "outputs": [
    {
     "output_type": "execute_result",
     "data": {
      "text/plain": "            Sale Amount\n2017-06-11        86263\n2017-06-18       100765\n2017-06-25       100935\n2017-07-02       100172\n2017-07-09       101412\n2017-07-16        10505",
      "text/html": "<div>\n<style scoped>\n    .dataframe tbody tr th:only-of-type {\n        vertical-align: middle;\n    }\n\n    .dataframe tbody tr th {\n        vertical-align: top;\n    }\n\n    .dataframe thead th {\n        text-align: right;\n    }\n</style>\n<table border=\"1\" class=\"dataframe\">\n  <thead>\n    <tr style=\"text-align: right;\">\n      <th></th>\n      <th>Sale Amount</th>\n    </tr>\n  </thead>\n  <tbody>\n    <tr>\n      <th>2017-06-11</th>\n      <td>86263</td>\n    </tr>\n    <tr>\n      <th>2017-06-18</th>\n      <td>100765</td>\n    </tr>\n    <tr>\n      <th>2017-06-25</th>\n      <td>100935</td>\n    </tr>\n    <tr>\n      <th>2017-07-02</th>\n      <td>100172</td>\n    </tr>\n    <tr>\n      <th>2017-07-09</th>\n      <td>101412</td>\n    </tr>\n    <tr>\n      <th>2017-07-16</th>\n      <td>10505</td>\n    </tr>\n  </tbody>\n</table>\n</div>"
     },
     "metadata": {},
     "execution_count": 94
    }
   ],
   "source": [
    "dataframe.resample('W').sum()"
   ]
  },
  {
   "cell_type": "code",
   "execution_count": 95,
   "metadata": {},
   "outputs": [
    {
     "output_type": "execute_result",
     "data": {
      "text/plain": "                     Sale Amount\n2017-06-06 00:00:00            4\n2017-06-06 00:00:30            9\n2017-06-06 00:01:00            2\n2017-06-06 00:01:30            4\n2017-06-06 00:02:00            4\n...                          ...\n2017-07-10 17:17:30            9\n2017-07-10 17:18:00            3\n2017-07-10 17:18:30            7\n2017-07-10 17:19:00            8\n2017-07-10 17:19:30            9\n\n[100000 rows x 1 columns]",
      "text/html": "<div>\n<style scoped>\n    .dataframe tbody tr th:only-of-type {\n        vertical-align: middle;\n    }\n\n    .dataframe tbody tr th {\n        vertical-align: top;\n    }\n\n    .dataframe thead th {\n        text-align: right;\n    }\n</style>\n<table border=\"1\" class=\"dataframe\">\n  <thead>\n    <tr style=\"text-align: right;\">\n      <th></th>\n      <th>Sale Amount</th>\n    </tr>\n  </thead>\n  <tbody>\n    <tr>\n      <th>2017-06-06 00:00:00</th>\n      <td>4</td>\n    </tr>\n    <tr>\n      <th>2017-06-06 00:00:30</th>\n      <td>9</td>\n    </tr>\n    <tr>\n      <th>2017-06-06 00:01:00</th>\n      <td>2</td>\n    </tr>\n    <tr>\n      <th>2017-06-06 00:01:30</th>\n      <td>4</td>\n    </tr>\n    <tr>\n      <th>2017-06-06 00:02:00</th>\n      <td>4</td>\n    </tr>\n    <tr>\n      <th>...</th>\n      <td>...</td>\n    </tr>\n    <tr>\n      <th>2017-07-10 17:17:30</th>\n      <td>9</td>\n    </tr>\n    <tr>\n      <th>2017-07-10 17:18:00</th>\n      <td>3</td>\n    </tr>\n    <tr>\n      <th>2017-07-10 17:18:30</th>\n      <td>7</td>\n    </tr>\n    <tr>\n      <th>2017-07-10 17:19:00</th>\n      <td>8</td>\n    </tr>\n    <tr>\n      <th>2017-07-10 17:19:30</th>\n      <td>9</td>\n    </tr>\n  </tbody>\n</table>\n<p>100000 rows × 1 columns</p>\n</div>"
     },
     "metadata": {},
     "execution_count": 95
    }
   ],
   "source": [
    "dataframe"
   ]
  },
  {
   "cell_type": "code",
   "execution_count": 96,
   "metadata": {},
   "outputs": [
    {
     "output_type": "execute_result",
     "data": {
      "text/plain": "            Sale Amount\n2017-06-11     4.992072\n2017-06-25     5.002480\n2017-07-09     4.999603\n2017-07-23     5.050481",
      "text/html": "<div>\n<style scoped>\n    .dataframe tbody tr th:only-of-type {\n        vertical-align: middle;\n    }\n\n    .dataframe tbody tr th {\n        vertical-align: top;\n    }\n\n    .dataframe thead th {\n        text-align: right;\n    }\n</style>\n<table border=\"1\" class=\"dataframe\">\n  <thead>\n    <tr style=\"text-align: right;\">\n      <th></th>\n      <th>Sale Amount</th>\n    </tr>\n  </thead>\n  <tbody>\n    <tr>\n      <th>2017-06-11</th>\n      <td>4.992072</td>\n    </tr>\n    <tr>\n      <th>2017-06-25</th>\n      <td>5.002480</td>\n    </tr>\n    <tr>\n      <th>2017-07-09</th>\n      <td>4.999603</td>\n    </tr>\n    <tr>\n      <th>2017-07-23</th>\n      <td>5.050481</td>\n    </tr>\n  </tbody>\n</table>\n</div>"
     },
     "metadata": {},
     "execution_count": 96
    }
   ],
   "source": [
    "dataframe.resample('2W').mean()"
   ]
  },
  {
   "cell_type": "code",
   "execution_count": 98,
   "metadata": {},
   "outputs": [
    {
     "output_type": "execute_result",
     "data": {
      "text/plain": "            Sale Amount\n2017-06-30     4.992250\n2017-07-31     5.021786",
      "text/html": "<div>\n<style scoped>\n    .dataframe tbody tr th:only-of-type {\n        vertical-align: middle;\n    }\n\n    .dataframe tbody tr th {\n        vertical-align: top;\n    }\n\n    .dataframe thead th {\n        text-align: right;\n    }\n</style>\n<table border=\"1\" class=\"dataframe\">\n  <thead>\n    <tr style=\"text-align: right;\">\n      <th></th>\n      <th>Sale Amount</th>\n    </tr>\n  </thead>\n  <tbody>\n    <tr>\n      <th>2017-06-30</th>\n      <td>4.992250</td>\n    </tr>\n    <tr>\n      <th>2017-07-31</th>\n      <td>5.021786</td>\n    </tr>\n  </tbody>\n</table>\n</div>"
     },
     "metadata": {},
     "execution_count": 98
    }
   ],
   "source": [
    "dataframe.resample('M').mean()"
   ]
  },
  {
   "cell_type": "code",
   "execution_count": 99,
   "metadata": {},
   "outputs": [],
   "source": [
    "def uppercase(x):\n",
    "    return x.upper()"
   ]
  },
  {
   "cell_type": "markdown",
   "metadata": {},
   "source": [
    "dataframe['Name'].apply(uppercase)"
   ]
  },
  {
   "cell_type": "code",
   "execution_count": 101,
   "metadata": {},
   "outputs": [],
   "source": [
    "data_a = {'id': ['1', '2', '3'],\n",
    "'first': ['Alex', 'Amy', 'Allen'],\n",
    "'last': ['Anderson', 'Ackerman', 'Ali']}\n",
    "dataframe_a = pd.DataFrame(data_a, columns = ['id', 'first', 'last'])"
   ]
  },
  {
   "cell_type": "code",
   "execution_count": 102,
   "metadata": {},
   "outputs": [],
   "source": [
    "data_b = {'id': ['4', '5', '6'],\n",
    "'first': ['Billy', 'Brian', 'Bran'],\n",
    "'last': ['Bonder', 'Black', 'Balwner']}\n",
    "dataframe_b = pd.DataFrame(data_b, columns = ['id', 'first', 'last'])"
   ]
  },
  {
   "cell_type": "code",
   "execution_count": 103,
   "metadata": {},
   "outputs": [
    {
     "output_type": "execute_result",
     "data": {
      "text/plain": "  id  first      last\n0  1   Alex  Anderson\n1  2    Amy  Ackerman\n2  3  Allen       Ali\n0  4  Billy    Bonder\n1  5  Brian     Black\n2  6   Bran   Balwner",
      "text/html": "<div>\n<style scoped>\n    .dataframe tbody tr th:only-of-type {\n        vertical-align: middle;\n    }\n\n    .dataframe tbody tr th {\n        vertical-align: top;\n    }\n\n    .dataframe thead th {\n        text-align: right;\n    }\n</style>\n<table border=\"1\" class=\"dataframe\">\n  <thead>\n    <tr style=\"text-align: right;\">\n      <th></th>\n      <th>id</th>\n      <th>first</th>\n      <th>last</th>\n    </tr>\n  </thead>\n  <tbody>\n    <tr>\n      <th>0</th>\n      <td>1</td>\n      <td>Alex</td>\n      <td>Anderson</td>\n    </tr>\n    <tr>\n      <th>1</th>\n      <td>2</td>\n      <td>Amy</td>\n      <td>Ackerman</td>\n    </tr>\n    <tr>\n      <th>2</th>\n      <td>3</td>\n      <td>Allen</td>\n      <td>Ali</td>\n    </tr>\n    <tr>\n      <th>0</th>\n      <td>4</td>\n      <td>Billy</td>\n      <td>Bonder</td>\n    </tr>\n    <tr>\n      <th>1</th>\n      <td>5</td>\n      <td>Brian</td>\n      <td>Black</td>\n    </tr>\n    <tr>\n      <th>2</th>\n      <td>6</td>\n      <td>Bran</td>\n      <td>Balwner</td>\n    </tr>\n  </tbody>\n</table>\n</div>"
     },
     "metadata": {},
     "execution_count": 103
    }
   ],
   "source": [
    "pd.concat([dataframe_a, dataframe_b], axis=0)"
   ]
  },
  {
   "cell_type": "code",
   "execution_count": 105,
   "metadata": {},
   "outputs": [
    {
     "output_type": "execute_result",
     "data": {
      "text/plain": "  id  first      last id  first     last\n0  1   Alex  Anderson  4  Billy   Bonder\n1  2    Amy  Ackerman  5  Brian    Black\n2  3  Allen       Ali  6   Bran  Balwner",
      "text/html": "<div>\n<style scoped>\n    .dataframe tbody tr th:only-of-type {\n        vertical-align: middle;\n    }\n\n    .dataframe tbody tr th {\n        vertical-align: top;\n    }\n\n    .dataframe thead th {\n        text-align: right;\n    }\n</style>\n<table border=\"1\" class=\"dataframe\">\n  <thead>\n    <tr style=\"text-align: right;\">\n      <th></th>\n      <th>id</th>\n      <th>first</th>\n      <th>last</th>\n      <th>id</th>\n      <th>first</th>\n      <th>last</th>\n    </tr>\n  </thead>\n  <tbody>\n    <tr>\n      <th>0</th>\n      <td>1</td>\n      <td>Alex</td>\n      <td>Anderson</td>\n      <td>4</td>\n      <td>Billy</td>\n      <td>Bonder</td>\n    </tr>\n    <tr>\n      <th>1</th>\n      <td>2</td>\n      <td>Amy</td>\n      <td>Ackerman</td>\n      <td>5</td>\n      <td>Brian</td>\n      <td>Black</td>\n    </tr>\n    <tr>\n      <th>2</th>\n      <td>3</td>\n      <td>Allen</td>\n      <td>Ali</td>\n      <td>6</td>\n      <td>Bran</td>\n      <td>Balwner</td>\n    </tr>\n  </tbody>\n</table>\n</div>"
     },
     "metadata": {},
     "execution_count": 105
    }
   ],
   "source": [
    "pd.concat([dataframe_a, dataframe_b], axis=1)"
   ]
  },
  {
   "cell_type": "code",
   "execution_count": 110,
   "metadata": {},
   "outputs": [],
   "source": [
    "# Create DataFrame\n",
    "employee_data = {'employee_id': ['1', '2', '3', '4'],\n",
    "'name': ['Amy Jones', 'Allen Keys', 'Alice Bees',\n",
    "'Tim Horton']}\n",
    "dataframe_employees = pd.DataFrame(employee_data, columns = ['employee_id','name'])"
   ]
  },
  {
   "cell_type": "code",
   "execution_count": 111,
   "metadata": {},
   "outputs": [],
   "source": [
    "# Create DataFrame\n",
    "sales_data = {'employee_id': ['3', '4', '5', '6'], 'total_sales': [23456, 2512, 2345, 1455]}\n",
    "\n",
    "dataframe_sales = pd.DataFrame(sales_data, columns = ['employee_id', 'total_sales'])"
   ]
  },
  {
   "cell_type": "code",
   "execution_count": 113,
   "metadata": {},
   "outputs": [
    {
     "output_type": "execute_result",
     "data": {
      "text/plain": "  employee_id        name  total_sales\n0           3  Alice Bees        23456\n1           4  Tim Horton         2512",
      "text/html": "<div>\n<style scoped>\n    .dataframe tbody tr th:only-of-type {\n        vertical-align: middle;\n    }\n\n    .dataframe tbody tr th {\n        vertical-align: top;\n    }\n\n    .dataframe thead th {\n        text-align: right;\n    }\n</style>\n<table border=\"1\" class=\"dataframe\">\n  <thead>\n    <tr style=\"text-align: right;\">\n      <th></th>\n      <th>employee_id</th>\n      <th>name</th>\n      <th>total_sales</th>\n    </tr>\n  </thead>\n  <tbody>\n    <tr>\n      <th>0</th>\n      <td>3</td>\n      <td>Alice Bees</td>\n      <td>23456</td>\n    </tr>\n    <tr>\n      <th>1</th>\n      <td>4</td>\n      <td>Tim Horton</td>\n      <td>2512</td>\n    </tr>\n  </tbody>\n</table>\n</div>"
     },
     "metadata": {},
     "execution_count": 113
    }
   ],
   "source": [
    "# defaults to inner join\n",
    "pd.merge(dataframe_employees, dataframe_sales, on='employee_id')"
   ]
  },
  {
   "cell_type": "code",
   "execution_count": 115,
   "metadata": {},
   "outputs": [
    {
     "output_type": "execute_result",
     "data": {
      "text/plain": "  employee_id        name  total_sales\n0           1   Amy Jones          NaN\n1           2  Allen Keys          NaN\n2           3  Alice Bees      23456.0\n3           4  Tim Horton       2512.0\n4           5         NaN       2345.0\n5           6         NaN       1455.0",
      "text/html": "<div>\n<style scoped>\n    .dataframe tbody tr th:only-of-type {\n        vertical-align: middle;\n    }\n\n    .dataframe tbody tr th {\n        vertical-align: top;\n    }\n\n    .dataframe thead th {\n        text-align: right;\n    }\n</style>\n<table border=\"1\" class=\"dataframe\">\n  <thead>\n    <tr style=\"text-align: right;\">\n      <th></th>\n      <th>employee_id</th>\n      <th>name</th>\n      <th>total_sales</th>\n    </tr>\n  </thead>\n  <tbody>\n    <tr>\n      <th>0</th>\n      <td>1</td>\n      <td>Amy Jones</td>\n      <td>NaN</td>\n    </tr>\n    <tr>\n      <th>1</th>\n      <td>2</td>\n      <td>Allen Keys</td>\n      <td>NaN</td>\n    </tr>\n    <tr>\n      <th>2</th>\n      <td>3</td>\n      <td>Alice Bees</td>\n      <td>23456.0</td>\n    </tr>\n    <tr>\n      <th>3</th>\n      <td>4</td>\n      <td>Tim Horton</td>\n      <td>2512.0</td>\n    </tr>\n    <tr>\n      <th>4</th>\n      <td>5</td>\n      <td>NaN</td>\n      <td>2345.0</td>\n    </tr>\n    <tr>\n      <th>5</th>\n      <td>6</td>\n      <td>NaN</td>\n      <td>1455.0</td>\n    </tr>\n  </tbody>\n</table>\n</div>"
     },
     "metadata": {},
     "execution_count": 115
    }
   ],
   "source": [
    "pd.merge(dataframe_employees, dataframe_sales, on='employee_id', how='outer')"
   ]
  },
  {
   "cell_type": "code",
   "execution_count": 116,
   "metadata": {},
   "outputs": [
    {
     "output_type": "execute_result",
     "data": {
      "text/plain": "  employee_id        name  total_sales\n0           1   Amy Jones          NaN\n1           2  Allen Keys          NaN\n2           3  Alice Bees      23456.0\n3           4  Tim Horton       2512.0",
      "text/html": "<div>\n<style scoped>\n    .dataframe tbody tr th:only-of-type {\n        vertical-align: middle;\n    }\n\n    .dataframe tbody tr th {\n        vertical-align: top;\n    }\n\n    .dataframe thead th {\n        text-align: right;\n    }\n</style>\n<table border=\"1\" class=\"dataframe\">\n  <thead>\n    <tr style=\"text-align: right;\">\n      <th></th>\n      <th>employee_id</th>\n      <th>name</th>\n      <th>total_sales</th>\n    </tr>\n  </thead>\n  <tbody>\n    <tr>\n      <th>0</th>\n      <td>1</td>\n      <td>Amy Jones</td>\n      <td>NaN</td>\n    </tr>\n    <tr>\n      <th>1</th>\n      <td>2</td>\n      <td>Allen Keys</td>\n      <td>NaN</td>\n    </tr>\n    <tr>\n      <th>2</th>\n      <td>3</td>\n      <td>Alice Bees</td>\n      <td>23456.0</td>\n    </tr>\n    <tr>\n      <th>3</th>\n      <td>4</td>\n      <td>Tim Horton</td>\n      <td>2512.0</td>\n    </tr>\n  </tbody>\n</table>\n</div>"
     },
     "metadata": {},
     "execution_count": 116
    }
   ],
   "source": [
    "pd.merge(dataframe_employees, dataframe_sales, on='employee_id', how='left')"
   ]
  },
  {
   "cell_type": "code",
   "execution_count": 117,
   "metadata": {},
   "outputs": [
    {
     "output_type": "execute_result",
     "data": {
      "text/plain": "  employee_id        name  total_sales\n0           3  Alice Bees        23456\n1           4  Tim Horton         2512",
      "text/html": "<div>\n<style scoped>\n    .dataframe tbody tr th:only-of-type {\n        vertical-align: middle;\n    }\n\n    .dataframe tbody tr th {\n        vertical-align: top;\n    }\n\n    .dataframe thead th {\n        text-align: right;\n    }\n</style>\n<table border=\"1\" class=\"dataframe\">\n  <thead>\n    <tr style=\"text-align: right;\">\n      <th></th>\n      <th>employee_id</th>\n      <th>name</th>\n      <th>total_sales</th>\n    </tr>\n  </thead>\n  <tbody>\n    <tr>\n      <th>0</th>\n      <td>3</td>\n      <td>Alice Bees</td>\n      <td>23456</td>\n    </tr>\n    <tr>\n      <th>1</th>\n      <td>4</td>\n      <td>Tim Horton</td>\n      <td>2512</td>\n    </tr>\n  </tbody>\n</table>\n</div>"
     },
     "metadata": {},
     "execution_count": 117
    }
   ],
   "source": [
    "\n",
    "    # Merge DataFrames\n",
    "pd.merge(dataframe_employees, dataframe_sales,\n",
    "left_on='employee_id', right_on='employee_id')"
   ]
  },
  {
   "cell_type": "markdown",
   "metadata": {},
   "source": [
    "If instead of merging on two columns we want to merge on the indexes of each Data‐ Frame, we can replace the left_on and right_on parameters with right_index=True and left_index=True."
   ]
  },
  {
   "cell_type": "markdown",
   "metadata": {},
   "source": [
    "# Handling numerical data"
   ]
  },
  {
   "cell_type": "code",
   "execution_count": 119,
   "metadata": {},
   "outputs": [],
   "source": [
    "from sklearn import preprocessing"
   ]
  },
  {
   "cell_type": "code",
   "execution_count": 120,
   "metadata": {},
   "outputs": [],
   "source": [
    "feature = np.array([[-500.5], [-100.1],\n",
    "[0], [100.1], [900.9]])"
   ]
  },
  {
   "cell_type": "code",
   "execution_count": 121,
   "metadata": {},
   "outputs": [],
   "source": [
    "minmax_scale = preprocessing.MinMaxScaler(feature_range=(0,1))"
   ]
  },
  {
   "cell_type": "code",
   "execution_count": 122,
   "metadata": {},
   "outputs": [
    {
     "output_type": "execute_result",
     "data": {
      "text/plain": "array([[0.        ],\n       [0.28571429],\n       [0.35714286],\n       [0.42857143],\n       [1.        ]])"
     },
     "metadata": {},
     "execution_count": 122
    }
   ],
   "source": [
    "minmax_scale.fit_transform(feature)"
   ]
  },
  {
   "cell_type": "code",
   "execution_count": 123,
   "metadata": {},
   "outputs": [],
   "source": [
    "x = np.array([[-1000.1], [-200.2],\n",
    "[500.5], [600.6], [9000.9]])"
   ]
  },
  {
   "cell_type": "code",
   "execution_count": 125,
   "metadata": {},
   "outputs": [
    {
     "output_type": "execute_result",
     "data": {
      "text/plain": "array([[-0.76058269],\n       [-0.54177196],\n       [-0.35009716],\n       [-0.32271504],\n       [ 1.97516685]])"
     },
     "metadata": {},
     "execution_count": 125
    }
   ],
   "source": [
    "preprocessing.StandardScaler().fit_transform(x)"
   ]
  },
  {
   "cell_type": "markdown",
   "metadata": {},
   "source": [
    "Standard scaler means (x-mean)/sd also called z score\n",
    "\n",
    "MinMax scaler mean (x=min)/max-min"
   ]
  },
  {
   "cell_type": "code",
   "execution_count": 126,
   "metadata": {},
   "outputs": [
    {
     "output_type": "execute_result",
     "data": {
      "text/plain": "array([[-1.87387612],\n       [-0.875     ],\n       [ 0.        ],\n       [ 0.125     ],\n       [10.61488511]])"
     },
     "metadata": {},
     "execution_count": 126
    }
   ],
   "source": [
    "# if data has significant outliers\n",
    "preprocessing.RobustScaler().fit_transform(x)"
   ]
  },
  {
   "cell_type": "code",
   "execution_count": 127,
   "metadata": {},
   "outputs": [],
   "source": [
    "# Normalising observations\n",
    "from sklearn.preprocessing import Normalizer"
   ]
  },
  {
   "cell_type": "code",
   "execution_count": 128,
   "metadata": {},
   "outputs": [],
   "source": [
    "features = np.array([[0.5, 0.5], [1.1, 3.4],\n",
    "[1.5, 20.2], [1.63, 34.4], [10.9, 3.3]])"
   ]
  },
  {
   "cell_type": "code",
   "execution_count": 129,
   "metadata": {},
   "outputs": [
    {
     "output_type": "execute_result",
     "data": {
      "text/plain": "array([[0.70710678, 0.70710678],\n       [0.30782029, 0.95144452],\n       [0.07405353, 0.99725427],\n       [0.04733062, 0.99887928],\n       [0.95709822, 0.28976368]])"
     },
     "metadata": {},
     "execution_count": 129
    }
   ],
   "source": [
    "Normalizer(norm='l2').transform(features)"
   ]
  },
  {
   "cell_type": "markdown",
   "metadata": {},
   "source": [
    "L2 norm is euclidean distance based norm (sum of squares)\n",
    "\n",
    "L1 norm is manhattan distance based norm (sum of absolute values)"
   ]
  },
  {
   "cell_type": "code",
   "execution_count": 130,
   "metadata": {},
   "outputs": [
    {
     "output_type": "execute_result",
     "data": {
      "text/plain": "array([[0.5       , 0.5       ],\n       [0.24444444, 0.75555556],\n       [0.06912442, 0.93087558],\n       [0.04524008, 0.95475992],\n       [0.76760563, 0.23239437]])"
     },
     "metadata": {},
     "execution_count": 130
    }
   ],
   "source": [
    "Normalizer(norm='l1').transform(features)"
   ]
  },
  {
   "cell_type": "markdown",
   "metadata": {},
   "source": [
    "## Polynomial features"
   ]
  },
  {
   "cell_type": "code",
   "execution_count": 131,
   "metadata": {},
   "outputs": [],
   "source": [
    "from sklearn.preprocessing import PolynomialFeatures"
   ]
  },
  {
   "cell_type": "code",
   "execution_count": 132,
   "metadata": {},
   "outputs": [],
   "source": [
    "features = np.array([[2,3],\n",
    "[2,3],[2,3]])"
   ]
  },
  {
   "cell_type": "code",
   "execution_count": 134,
   "metadata": {},
   "outputs": [
    {
     "output_type": "execute_result",
     "data": {
      "text/plain": "array([[2., 3., 4., 6., 9.],\n       [2., 3., 4., 6., 9.],\n       [2., 3., 4., 6., 9.]])"
     },
     "metadata": {},
     "execution_count": 134
    }
   ],
   "source": [
    "PolynomialFeatures(degree=2, include_bias=False).fit_transform(features)"
   ]
  },
  {
   "cell_type": "markdown",
   "metadata": {},
   "source": [
    "The degree parameter determines the maximum degree of the polynomial. For\n",
    "example, degree=2 will create new features raised to the second power: x1, x2, x12, x22\n",
    "while degree=3 will create new features raised to the second and third power: x1, x2, x12, x22, x13, x23\n",
    "Furthermore, by default PolynomialFeatures includes interaction features: x1x2"
   ]
  },
  {
   "cell_type": "code",
   "execution_count": 136,
   "metadata": {},
   "outputs": [
    {
     "output_type": "execute_result",
     "data": {
      "text/plain": "array([[ 2.,  3.,  4.,  6.,  9.,  8., 12., 18., 27.],\n       [ 2.,  3.,  4.,  6.,  9.,  8., 12., 18., 27.],\n       [ 2.,  3.,  4.,  6.,  9.,  8., 12., 18., 27.]])"
     },
     "metadata": {},
     "execution_count": 136
    }
   ],
   "source": [
    "PolynomialFeatures(degree=3, include_bias=False).fit_transform(features)"
   ]
  },
  {
   "cell_type": "code",
   "execution_count": 137,
   "metadata": {},
   "outputs": [],
   "source": [
    "from sklearn.preprocessing import FunctionTransformer"
   ]
  },
  {
   "cell_type": "code",
   "execution_count": 138,
   "metadata": {},
   "outputs": [],
   "source": [
    "features = np.array([[2, 3], [2, 3],\n",
    "[2, 3]])"
   ]
  },
  {
   "cell_type": "code",
   "execution_count": 140,
   "metadata": {},
   "outputs": [],
   "source": [
    "def add_ten(x): \n",
    "    return x + 10"
   ]
  },
  {
   "cell_type": "code",
   "execution_count": 141,
   "metadata": {},
   "outputs": [
    {
     "output_type": "execute_result",
     "data": {
      "text/plain": "array([[12, 13],\n       [12, 13],\n       [12, 13]])"
     },
     "metadata": {},
     "execution_count": 141
    }
   ],
   "source": [
    "FunctionTransformer(add_ten).transform(features)"
   ]
  },
  {
   "cell_type": "markdown",
   "metadata": {},
   "source": [
    "## Detecting outliers "
   ]
  },
  {
   "cell_type": "code",
   "execution_count": 143,
   "metadata": {},
   "outputs": [],
   "source": [
    "from sklearn.covariance import EllipticEnvelope\n",
    "from sklearn.datasets import make_blobs"
   ]
  },
  {
   "cell_type": "code",
   "execution_count": 144,
   "metadata": {},
   "outputs": [],
   "source": [
    "features, _ = make_blobs(n_samples=10, n_features=2, centers=1, random_state=1)"
   ]
  },
  {
   "cell_type": "code",
   "execution_count": 146,
   "metadata": {},
   "outputs": [],
   "source": [
    "features[0,0] = 10000\n",
    "features[0,1] = 10000"
   ]
  },
  {
   "cell_type": "code",
   "execution_count": 148,
   "metadata": {},
   "outputs": [
    {
     "output_type": "execute_result",
     "data": {
      "text/plain": "array([-1,  1,  1,  1,  1,  1,  1,  1,  1,  1])"
     },
     "metadata": {},
     "execution_count": 148
    }
   ],
   "source": [
    "EllipticEnvelope(contamination=.1).fit(features).predict(features)"
   ]
  },
  {
   "cell_type": "code",
   "execution_count": 149,
   "metadata": {},
   "outputs": [],
   "source": [
    "from sklearn.cluster import KMeans"
   ]
  },
  {
   "cell_type": "code",
   "execution_count": 150,
   "metadata": {},
   "outputs": [],
   "source": [
    "features, _ = make_blobs(n_samples = 50, n_features = 2,\n",
    "centers = 3, random_state = 1)"
   ]
  },
  {
   "cell_type": "code",
   "execution_count": 151,
   "metadata": {},
   "outputs": [],
   "source": [
    "dataframe = pd.DataFrame(features, columns=[\"feature_1\", \"feature_2\"])"
   ]
  },
  {
   "cell_type": "code",
   "execution_count": 153,
   "metadata": {},
   "outputs": [
    {
     "output_type": "execute_result",
     "data": {
      "text/plain": "array([2, 0, 0, 0, 0, 1, 1, 2, 1, 1, 0, 0, 0, 2, 0, 1, 1, 1, 2, 2, 1, 1,\n       2, 1, 2, 0, 1, 0, 1, 0, 0, 2, 2, 2, 1, 1, 1, 2, 0, 0, 0, 1, 1, 2,\n       0, 2, 2, 2, 2, 0], dtype=int32)"
     },
     "metadata": {},
     "execution_count": 153
    }
   ],
   "source": [
    "KMeans(3, random_state=4).fit(features).predict(features)"
   ]
  },
  {
   "cell_type": "code",
   "execution_count": 154,
   "metadata": {},
   "outputs": [],
   "source": [
    "features = np.array([[1.1, 11.1], [2.2, 22.2], [3.3, 33.3], [4.4, 44.4],\n",
    "[np.nan, 55]])"
   ]
  },
  {
   "cell_type": "code",
   "execution_count": 156,
   "metadata": {},
   "outputs": [
    {
     "output_type": "execute_result",
     "data": {
      "text/plain": "array([[ 1.1, 11.1],\n       [ 2.2, 22.2],\n       [ 3.3, 33.3],\n       [ 4.4, 44.4]])"
     },
     "metadata": {},
     "execution_count": 156
    }
   ],
   "source": [
    "# keep only rows that are not nan(denoted by ~)\n",
    "features[~np.isnan(features).any(axis=1)]"
   ]
  },
  {
   "cell_type": "code",
   "execution_count": 161,
   "metadata": {},
   "outputs": [],
   "source": [
    "from sklearn.impute import SimpleImputer"
   ]
  },
  {
   "cell_type": "code",
   "execution_count": 164,
   "metadata": {},
   "outputs": [
    {
     "output_type": "execute_result",
     "data": {
      "text/plain": "array([[ 1.1 , 11.1 ],\n       [ 2.2 , 22.2 ],\n       [ 3.3 , 33.3 ],\n       [ 4.4 , 44.4 ],\n       [ 2.75, 55.  ]])"
     },
     "metadata": {},
     "execution_count": 164
    }
   ],
   "source": [
    "SimpleImputer(strategy='mean').fit_transform(features)"
   ]
  },
  {
   "cell_type": "markdown",
   "metadata": {},
   "source": [
    "# Handling Categorical Values"
   ]
  },
  {
   "cell_type": "code",
   "execution_count": 166,
   "metadata": {},
   "outputs": [],
   "source": [
    "feature = np.array([[\"Texas\"], [\"California\"],\n",
    "                        [\"Texas\"],\n",
    "                        [\"Delaware\"],\n",
    "                        [\"Texas\"]])"
   ]
  },
  {
   "cell_type": "code",
   "execution_count": 167,
   "metadata": {},
   "outputs": [],
   "source": [
    "from sklearn.preprocessing import LabelBinarizer, MultiLabelBinarizer"
   ]
  },
  {
   "cell_type": "code",
   "execution_count": 172,
   "metadata": {},
   "outputs": [
    {
     "output_type": "execute_result",
     "data": {
      "text/plain": "array([[0, 0, 1],\n       [1, 0, 0],\n       [0, 0, 1],\n       [0, 1, 0],\n       [0, 0, 1]])"
     },
     "metadata": {},
     "execution_count": 172
    }
   ],
   "source": [
    "one_hot = LabelBinarizer()\n",
    "one_hot.fit_transform(feature)"
   ]
  },
  {
   "cell_type": "code",
   "execution_count": 173,
   "metadata": {},
   "outputs": [
    {
     "output_type": "execute_result",
     "data": {
      "text/plain": "array(['California', 'Delaware', 'Texas'], dtype='<U10')"
     },
     "metadata": {},
     "execution_count": 173
    }
   ],
   "source": [
    "one_hot.classes_"
   ]
  },
  {
   "cell_type": "code",
   "execution_count": null,
   "metadata": {},
   "outputs": [],
   "source": []
  },
  {
   "cell_type": "code",
   "execution_count": null,
   "metadata": {},
   "outputs": [],
   "source": []
  }
 ],
 "metadata": {
  "language_info": {
   "codemirror_mode": {
    "name": "ipython",
    "version": 3
   },
   "file_extension": ".py",
   "mimetype": "text/x-python",
   "name": "python",
   "nbconvert_exporter": "python",
   "pygments_lexer": "ipython3",
   "version": "3.7.4-final"
  },
  "orig_nbformat": 2,
  "kernelspec": {
   "name": "python37464bit909ddf8853274f009ffae61a987e5ee5",
   "display_name": "Python 3.7.4 64-bit"
  }
 },
 "nbformat": 4,
 "nbformat_minor": 2
}